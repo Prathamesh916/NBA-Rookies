{
 "cells": [
  {
   "cell_type": "markdown",
   "id": "9ffd5d18",
   "metadata": {},
   "source": [
    "# NBA Rookies"
   ]
  },
  {
   "cell_type": "markdown",
   "id": "8224f809",
   "metadata": {},
   "source": [
    "problem statement\n",
    "\n",
    "Dataset for classification -use NBA rookie stats to predict if player will last 5 years in league\n",
    "y = 0 if career years played < 5\n",
    "y = 1 if career years played >= 5"
   ]
  },
  {
   "cell_type": "markdown",
   "id": "7a47bc9f",
   "metadata": {},
   "source": [
    "import the librarirs"
   ]
  },
  {
   "cell_type": "code",
   "execution_count": 2,
   "id": "5273e49f",
   "metadata": {},
   "outputs": [],
   "source": [
    "import pandas as pd  # importing the pandas library\n",
    "import numpy as np   #importing numpy library for numeric operation\n",
    "import matplotlib.pyplot as plt  # importing matplotlib fot data visualisation\n",
    "import seaborn as sns  # importing matplotlib fot data visualisation "
   ]
  },
  {
   "cell_type": "code",
   "execution_count": 3,
   "id": "21bd9201",
   "metadata": {},
   "outputs": [],
   "source": [
    "nba = pd.read_csv(r\"E:\\DATASETS\\exercises-logistic-regression-exercise-1\\nba_logreg.csv\")\n",
    "# with the help of pandas library we load the data from data.world"
   ]
  },
  {
   "cell_type": "code",
   "execution_count": 4,
   "id": "140995f8",
   "metadata": {},
   "outputs": [
    {
     "data": {
      "text/html": [
       "<div>\n",
       "<style scoped>\n",
       "    .dataframe tbody tr th:only-of-type {\n",
       "        vertical-align: middle;\n",
       "    }\n",
       "\n",
       "    .dataframe tbody tr th {\n",
       "        vertical-align: top;\n",
       "    }\n",
       "\n",
       "    .dataframe thead th {\n",
       "        text-align: right;\n",
       "    }\n",
       "</style>\n",
       "<table border=\"1\" class=\"dataframe\">\n",
       "  <thead>\n",
       "    <tr style=\"text-align: right;\">\n",
       "      <th></th>\n",
       "      <th>GP</th>\n",
       "      <th>MIN</th>\n",
       "      <th>PTS</th>\n",
       "      <th>FGM</th>\n",
       "      <th>FGA</th>\n",
       "      <th>FG%</th>\n",
       "      <th>3P Made</th>\n",
       "      <th>3PA</th>\n",
       "      <th>3P%</th>\n",
       "      <th>FTM</th>\n",
       "      <th>FTA</th>\n",
       "      <th>FT%</th>\n",
       "      <th>OREB</th>\n",
       "      <th>DREB</th>\n",
       "      <th>REB</th>\n",
       "      <th>AST</th>\n",
       "      <th>STL</th>\n",
       "      <th>BLK</th>\n",
       "      <th>TOV</th>\n",
       "      <th>TARGET_5Yrs</th>\n",
       "    </tr>\n",
       "  </thead>\n",
       "  <tbody>\n",
       "    <tr>\n",
       "      <th>count</th>\n",
       "      <td>1340.000000</td>\n",
       "      <td>1340.000000</td>\n",
       "      <td>1340.000000</td>\n",
       "      <td>1340.000000</td>\n",
       "      <td>1340.000000</td>\n",
       "      <td>1340.000000</td>\n",
       "      <td>1340.000000</td>\n",
       "      <td>1340.000000</td>\n",
       "      <td>1329.000000</td>\n",
       "      <td>1340.000000</td>\n",
       "      <td>1340.000000</td>\n",
       "      <td>1340.000000</td>\n",
       "      <td>1340.000000</td>\n",
       "      <td>1340.000000</td>\n",
       "      <td>1340.000000</td>\n",
       "      <td>1340.000000</td>\n",
       "      <td>1340.000000</td>\n",
       "      <td>1340.000000</td>\n",
       "      <td>1340.000000</td>\n",
       "      <td>1340.000000</td>\n",
       "    </tr>\n",
       "    <tr>\n",
       "      <th>mean</th>\n",
       "      <td>60.414179</td>\n",
       "      <td>17.624627</td>\n",
       "      <td>6.801493</td>\n",
       "      <td>2.629104</td>\n",
       "      <td>5.885299</td>\n",
       "      <td>44.169403</td>\n",
       "      <td>0.247612</td>\n",
       "      <td>0.779179</td>\n",
       "      <td>19.308126</td>\n",
       "      <td>1.297687</td>\n",
       "      <td>1.821940</td>\n",
       "      <td>70.300299</td>\n",
       "      <td>1.009403</td>\n",
       "      <td>2.025746</td>\n",
       "      <td>3.034478</td>\n",
       "      <td>1.550522</td>\n",
       "      <td>0.618507</td>\n",
       "      <td>0.368582</td>\n",
       "      <td>1.193582</td>\n",
       "      <td>0.620149</td>\n",
       "    </tr>\n",
       "    <tr>\n",
       "      <th>std</th>\n",
       "      <td>17.433992</td>\n",
       "      <td>8.307964</td>\n",
       "      <td>4.357545</td>\n",
       "      <td>1.683555</td>\n",
       "      <td>3.593488</td>\n",
       "      <td>6.137679</td>\n",
       "      <td>0.383688</td>\n",
       "      <td>1.061847</td>\n",
       "      <td>16.022916</td>\n",
       "      <td>0.987246</td>\n",
       "      <td>1.322984</td>\n",
       "      <td>10.578479</td>\n",
       "      <td>0.777119</td>\n",
       "      <td>1.360008</td>\n",
       "      <td>2.057774</td>\n",
       "      <td>1.471169</td>\n",
       "      <td>0.409759</td>\n",
       "      <td>0.429049</td>\n",
       "      <td>0.722541</td>\n",
       "      <td>0.485531</td>\n",
       "    </tr>\n",
       "    <tr>\n",
       "      <th>min</th>\n",
       "      <td>11.000000</td>\n",
       "      <td>3.100000</td>\n",
       "      <td>0.700000</td>\n",
       "      <td>0.300000</td>\n",
       "      <td>0.800000</td>\n",
       "      <td>23.800000</td>\n",
       "      <td>0.000000</td>\n",
       "      <td>0.000000</td>\n",
       "      <td>0.000000</td>\n",
       "      <td>0.000000</td>\n",
       "      <td>0.000000</td>\n",
       "      <td>0.000000</td>\n",
       "      <td>0.000000</td>\n",
       "      <td>0.200000</td>\n",
       "      <td>0.300000</td>\n",
       "      <td>0.000000</td>\n",
       "      <td>0.000000</td>\n",
       "      <td>0.000000</td>\n",
       "      <td>0.100000</td>\n",
       "      <td>0.000000</td>\n",
       "    </tr>\n",
       "    <tr>\n",
       "      <th>25%</th>\n",
       "      <td>47.000000</td>\n",
       "      <td>10.875000</td>\n",
       "      <td>3.700000</td>\n",
       "      <td>1.400000</td>\n",
       "      <td>3.300000</td>\n",
       "      <td>40.200000</td>\n",
       "      <td>0.000000</td>\n",
       "      <td>0.000000</td>\n",
       "      <td>0.000000</td>\n",
       "      <td>0.600000</td>\n",
       "      <td>0.900000</td>\n",
       "      <td>64.700000</td>\n",
       "      <td>0.400000</td>\n",
       "      <td>1.000000</td>\n",
       "      <td>1.500000</td>\n",
       "      <td>0.600000</td>\n",
       "      <td>0.300000</td>\n",
       "      <td>0.100000</td>\n",
       "      <td>0.700000</td>\n",
       "      <td>0.000000</td>\n",
       "    </tr>\n",
       "    <tr>\n",
       "      <th>50%</th>\n",
       "      <td>63.000000</td>\n",
       "      <td>16.100000</td>\n",
       "      <td>5.550000</td>\n",
       "      <td>2.100000</td>\n",
       "      <td>4.800000</td>\n",
       "      <td>44.100000</td>\n",
       "      <td>0.100000</td>\n",
       "      <td>0.300000</td>\n",
       "      <td>22.400000</td>\n",
       "      <td>1.000000</td>\n",
       "      <td>1.500000</td>\n",
       "      <td>71.250000</td>\n",
       "      <td>0.800000</td>\n",
       "      <td>1.700000</td>\n",
       "      <td>2.500000</td>\n",
       "      <td>1.100000</td>\n",
       "      <td>0.500000</td>\n",
       "      <td>0.200000</td>\n",
       "      <td>1.000000</td>\n",
       "      <td>1.000000</td>\n",
       "    </tr>\n",
       "    <tr>\n",
       "      <th>75%</th>\n",
       "      <td>77.000000</td>\n",
       "      <td>22.900000</td>\n",
       "      <td>8.800000</td>\n",
       "      <td>3.400000</td>\n",
       "      <td>7.500000</td>\n",
       "      <td>47.900000</td>\n",
       "      <td>0.400000</td>\n",
       "      <td>1.200000</td>\n",
       "      <td>32.500000</td>\n",
       "      <td>1.600000</td>\n",
       "      <td>2.300000</td>\n",
       "      <td>77.600000</td>\n",
       "      <td>1.400000</td>\n",
       "      <td>2.600000</td>\n",
       "      <td>4.000000</td>\n",
       "      <td>2.000000</td>\n",
       "      <td>0.800000</td>\n",
       "      <td>0.500000</td>\n",
       "      <td>1.500000</td>\n",
       "      <td>1.000000</td>\n",
       "    </tr>\n",
       "    <tr>\n",
       "      <th>max</th>\n",
       "      <td>82.000000</td>\n",
       "      <td>40.900000</td>\n",
       "      <td>28.200000</td>\n",
       "      <td>10.200000</td>\n",
       "      <td>19.800000</td>\n",
       "      <td>73.700000</td>\n",
       "      <td>2.300000</td>\n",
       "      <td>6.500000</td>\n",
       "      <td>100.000000</td>\n",
       "      <td>7.700000</td>\n",
       "      <td>10.200000</td>\n",
       "      <td>100.000000</td>\n",
       "      <td>5.300000</td>\n",
       "      <td>9.600000</td>\n",
       "      <td>13.900000</td>\n",
       "      <td>10.600000</td>\n",
       "      <td>2.500000</td>\n",
       "      <td>3.900000</td>\n",
       "      <td>4.400000</td>\n",
       "      <td>1.000000</td>\n",
       "    </tr>\n",
       "  </tbody>\n",
       "</table>\n",
       "</div>"
      ],
      "text/plain": [
       "                GP          MIN          PTS          FGM          FGA  \\\n",
       "count  1340.000000  1340.000000  1340.000000  1340.000000  1340.000000   \n",
       "mean     60.414179    17.624627     6.801493     2.629104     5.885299   \n",
       "std      17.433992     8.307964     4.357545     1.683555     3.593488   \n",
       "min      11.000000     3.100000     0.700000     0.300000     0.800000   \n",
       "25%      47.000000    10.875000     3.700000     1.400000     3.300000   \n",
       "50%      63.000000    16.100000     5.550000     2.100000     4.800000   \n",
       "75%      77.000000    22.900000     8.800000     3.400000     7.500000   \n",
       "max      82.000000    40.900000    28.200000    10.200000    19.800000   \n",
       "\n",
       "               FG%      3P Made          3PA          3P%          FTM  \\\n",
       "count  1340.000000  1340.000000  1340.000000  1329.000000  1340.000000   \n",
       "mean     44.169403     0.247612     0.779179    19.308126     1.297687   \n",
       "std       6.137679     0.383688     1.061847    16.022916     0.987246   \n",
       "min      23.800000     0.000000     0.000000     0.000000     0.000000   \n",
       "25%      40.200000     0.000000     0.000000     0.000000     0.600000   \n",
       "50%      44.100000     0.100000     0.300000    22.400000     1.000000   \n",
       "75%      47.900000     0.400000     1.200000    32.500000     1.600000   \n",
       "max      73.700000     2.300000     6.500000   100.000000     7.700000   \n",
       "\n",
       "               FTA          FT%         OREB         DREB          REB  \\\n",
       "count  1340.000000  1340.000000  1340.000000  1340.000000  1340.000000   \n",
       "mean      1.821940    70.300299     1.009403     2.025746     3.034478   \n",
       "std       1.322984    10.578479     0.777119     1.360008     2.057774   \n",
       "min       0.000000     0.000000     0.000000     0.200000     0.300000   \n",
       "25%       0.900000    64.700000     0.400000     1.000000     1.500000   \n",
       "50%       1.500000    71.250000     0.800000     1.700000     2.500000   \n",
       "75%       2.300000    77.600000     1.400000     2.600000     4.000000   \n",
       "max      10.200000   100.000000     5.300000     9.600000    13.900000   \n",
       "\n",
       "               AST          STL          BLK          TOV  TARGET_5Yrs  \n",
       "count  1340.000000  1340.000000  1340.000000  1340.000000  1340.000000  \n",
       "mean      1.550522     0.618507     0.368582     1.193582     0.620149  \n",
       "std       1.471169     0.409759     0.429049     0.722541     0.485531  \n",
       "min       0.000000     0.000000     0.000000     0.100000     0.000000  \n",
       "25%       0.600000     0.300000     0.100000     0.700000     0.000000  \n",
       "50%       1.100000     0.500000     0.200000     1.000000     1.000000  \n",
       "75%       2.000000     0.800000     0.500000     1.500000     1.000000  \n",
       "max      10.600000     2.500000     3.900000     4.400000     1.000000  "
      ]
     },
     "execution_count": 4,
     "metadata": {},
     "output_type": "execute_result"
    }
   ],
   "source": [
    "nba.describe()\n",
    "# describe is used to know about the data count, mean , std, and boxplots 5 points representation"
   ]
  },
  {
   "cell_type": "code",
   "execution_count": 5,
   "id": "52900493",
   "metadata": {},
   "outputs": [
    {
     "data": {
      "text/html": [
       "<div>\n",
       "<style scoped>\n",
       "    .dataframe tbody tr th:only-of-type {\n",
       "        vertical-align: middle;\n",
       "    }\n",
       "\n",
       "    .dataframe tbody tr th {\n",
       "        vertical-align: top;\n",
       "    }\n",
       "\n",
       "    .dataframe thead th {\n",
       "        text-align: right;\n",
       "    }\n",
       "</style>\n",
       "<table border=\"1\" class=\"dataframe\">\n",
       "  <thead>\n",
       "    <tr style=\"text-align: right;\">\n",
       "      <th></th>\n",
       "      <th>Name</th>\n",
       "      <th>GP</th>\n",
       "      <th>MIN</th>\n",
       "      <th>PTS</th>\n",
       "      <th>FGM</th>\n",
       "      <th>FGA</th>\n",
       "      <th>FG%</th>\n",
       "      <th>3P Made</th>\n",
       "      <th>3PA</th>\n",
       "      <th>3P%</th>\n",
       "      <th>...</th>\n",
       "      <th>FTA</th>\n",
       "      <th>FT%</th>\n",
       "      <th>OREB</th>\n",
       "      <th>DREB</th>\n",
       "      <th>REB</th>\n",
       "      <th>AST</th>\n",
       "      <th>STL</th>\n",
       "      <th>BLK</th>\n",
       "      <th>TOV</th>\n",
       "      <th>TARGET_5Yrs</th>\n",
       "    </tr>\n",
       "  </thead>\n",
       "  <tbody>\n",
       "    <tr>\n",
       "      <th>0</th>\n",
       "      <td>Brandon Ingram</td>\n",
       "      <td>36</td>\n",
       "      <td>27.4</td>\n",
       "      <td>7.4</td>\n",
       "      <td>2.6</td>\n",
       "      <td>7.6</td>\n",
       "      <td>34.7</td>\n",
       "      <td>0.5</td>\n",
       "      <td>2.1</td>\n",
       "      <td>25.0</td>\n",
       "      <td>...</td>\n",
       "      <td>2.3</td>\n",
       "      <td>69.9</td>\n",
       "      <td>0.7</td>\n",
       "      <td>3.4</td>\n",
       "      <td>4.1</td>\n",
       "      <td>1.9</td>\n",
       "      <td>0.4</td>\n",
       "      <td>0.4</td>\n",
       "      <td>1.3</td>\n",
       "      <td>0.0</td>\n",
       "    </tr>\n",
       "    <tr>\n",
       "      <th>1</th>\n",
       "      <td>Andrew Harrison</td>\n",
       "      <td>35</td>\n",
       "      <td>26.9</td>\n",
       "      <td>7.2</td>\n",
       "      <td>2.0</td>\n",
       "      <td>6.7</td>\n",
       "      <td>29.6</td>\n",
       "      <td>0.7</td>\n",
       "      <td>2.8</td>\n",
       "      <td>23.5</td>\n",
       "      <td>...</td>\n",
       "      <td>3.4</td>\n",
       "      <td>76.5</td>\n",
       "      <td>0.5</td>\n",
       "      <td>2.0</td>\n",
       "      <td>2.4</td>\n",
       "      <td>3.7</td>\n",
       "      <td>1.1</td>\n",
       "      <td>0.5</td>\n",
       "      <td>1.6</td>\n",
       "      <td>0.0</td>\n",
       "    </tr>\n",
       "    <tr>\n",
       "      <th>2</th>\n",
       "      <td>JaKarr Sampson</td>\n",
       "      <td>74</td>\n",
       "      <td>15.3</td>\n",
       "      <td>5.2</td>\n",
       "      <td>2.0</td>\n",
       "      <td>4.7</td>\n",
       "      <td>42.2</td>\n",
       "      <td>0.4</td>\n",
       "      <td>1.7</td>\n",
       "      <td>24.4</td>\n",
       "      <td>...</td>\n",
       "      <td>1.3</td>\n",
       "      <td>67.0</td>\n",
       "      <td>0.5</td>\n",
       "      <td>1.7</td>\n",
       "      <td>2.2</td>\n",
       "      <td>1.0</td>\n",
       "      <td>0.5</td>\n",
       "      <td>0.3</td>\n",
       "      <td>1.0</td>\n",
       "      <td>0.0</td>\n",
       "    </tr>\n",
       "    <tr>\n",
       "      <th>3</th>\n",
       "      <td>Malik Sealy</td>\n",
       "      <td>58</td>\n",
       "      <td>11.6</td>\n",
       "      <td>5.7</td>\n",
       "      <td>2.3</td>\n",
       "      <td>5.5</td>\n",
       "      <td>42.6</td>\n",
       "      <td>0.1</td>\n",
       "      <td>0.5</td>\n",
       "      <td>22.6</td>\n",
       "      <td>...</td>\n",
       "      <td>1.3</td>\n",
       "      <td>68.9</td>\n",
       "      <td>1.0</td>\n",
       "      <td>0.9</td>\n",
       "      <td>1.9</td>\n",
       "      <td>0.8</td>\n",
       "      <td>0.6</td>\n",
       "      <td>0.1</td>\n",
       "      <td>1.0</td>\n",
       "      <td>1.0</td>\n",
       "    </tr>\n",
       "    <tr>\n",
       "      <th>4</th>\n",
       "      <td>Matt Geiger</td>\n",
       "      <td>48</td>\n",
       "      <td>11.5</td>\n",
       "      <td>4.5</td>\n",
       "      <td>1.6</td>\n",
       "      <td>3.0</td>\n",
       "      <td>52.4</td>\n",
       "      <td>0.0</td>\n",
       "      <td>0.1</td>\n",
       "      <td>0.0</td>\n",
       "      <td>...</td>\n",
       "      <td>1.9</td>\n",
       "      <td>67.4</td>\n",
       "      <td>1.0</td>\n",
       "      <td>1.5</td>\n",
       "      <td>2.5</td>\n",
       "      <td>0.3</td>\n",
       "      <td>0.3</td>\n",
       "      <td>0.4</td>\n",
       "      <td>0.8</td>\n",
       "      <td>1.0</td>\n",
       "    </tr>\n",
       "  </tbody>\n",
       "</table>\n",
       "<p>5 rows × 21 columns</p>\n",
       "</div>"
      ],
      "text/plain": [
       "              Name  GP   MIN  PTS  FGM  FGA   FG%  3P Made  3PA   3P%  ...  \\\n",
       "0   Brandon Ingram  36  27.4  7.4  2.6  7.6  34.7      0.5  2.1  25.0  ...   \n",
       "1  Andrew Harrison  35  26.9  7.2  2.0  6.7  29.6      0.7  2.8  23.5  ...   \n",
       "2   JaKarr Sampson  74  15.3  5.2  2.0  4.7  42.2      0.4  1.7  24.4  ...   \n",
       "3      Malik Sealy  58  11.6  5.7  2.3  5.5  42.6      0.1  0.5  22.6  ...   \n",
       "4      Matt Geiger  48  11.5  4.5  1.6  3.0  52.4      0.0  0.1   0.0  ...   \n",
       "\n",
       "   FTA   FT%  OREB  DREB  REB  AST  STL  BLK  TOV  TARGET_5Yrs  \n",
       "0  2.3  69.9   0.7   3.4  4.1  1.9  0.4  0.4  1.3          0.0  \n",
       "1  3.4  76.5   0.5   2.0  2.4  3.7  1.1  0.5  1.6          0.0  \n",
       "2  1.3  67.0   0.5   1.7  2.2  1.0  0.5  0.3  1.0          0.0  \n",
       "3  1.3  68.9   1.0   0.9  1.9  0.8  0.6  0.1  1.0          1.0  \n",
       "4  1.9  67.4   1.0   1.5  2.5  0.3  0.3  0.4  0.8          1.0  \n",
       "\n",
       "[5 rows x 21 columns]"
      ]
     },
     "execution_count": 5,
     "metadata": {},
     "output_type": "execute_result"
    }
   ],
   "source": [
    "nba.head()\n",
    "# to see top 5 instances"
   ]
  },
  {
   "cell_type": "code",
   "execution_count": 6,
   "id": "5a11dce6",
   "metadata": {},
   "outputs": [
    {
     "data": {
      "text/html": [
       "<div>\n",
       "<style scoped>\n",
       "    .dataframe tbody tr th:only-of-type {\n",
       "        vertical-align: middle;\n",
       "    }\n",
       "\n",
       "    .dataframe tbody tr th {\n",
       "        vertical-align: top;\n",
       "    }\n",
       "\n",
       "    .dataframe thead th {\n",
       "        text-align: right;\n",
       "    }\n",
       "</style>\n",
       "<table border=\"1\" class=\"dataframe\">\n",
       "  <thead>\n",
       "    <tr style=\"text-align: right;\">\n",
       "      <th></th>\n",
       "      <th>Name</th>\n",
       "      <th>GP</th>\n",
       "      <th>MIN</th>\n",
       "      <th>PTS</th>\n",
       "      <th>FGM</th>\n",
       "      <th>FGA</th>\n",
       "      <th>FG%</th>\n",
       "      <th>3P Made</th>\n",
       "      <th>3PA</th>\n",
       "      <th>3P%</th>\n",
       "      <th>...</th>\n",
       "      <th>FTA</th>\n",
       "      <th>FT%</th>\n",
       "      <th>OREB</th>\n",
       "      <th>DREB</th>\n",
       "      <th>REB</th>\n",
       "      <th>AST</th>\n",
       "      <th>STL</th>\n",
       "      <th>BLK</th>\n",
       "      <th>TOV</th>\n",
       "      <th>TARGET_5Yrs</th>\n",
       "    </tr>\n",
       "  </thead>\n",
       "  <tbody>\n",
       "    <tr>\n",
       "      <th>1335</th>\n",
       "      <td>Chris Smith</td>\n",
       "      <td>80</td>\n",
       "      <td>15.8</td>\n",
       "      <td>4.3</td>\n",
       "      <td>1.6</td>\n",
       "      <td>3.6</td>\n",
       "      <td>43.3</td>\n",
       "      <td>0.0</td>\n",
       "      <td>0.2</td>\n",
       "      <td>14.3</td>\n",
       "      <td>...</td>\n",
       "      <td>1.5</td>\n",
       "      <td>79.2</td>\n",
       "      <td>0.4</td>\n",
       "      <td>0.8</td>\n",
       "      <td>1.2</td>\n",
       "      <td>2.5</td>\n",
       "      <td>0.6</td>\n",
       "      <td>0.2</td>\n",
       "      <td>0.8</td>\n",
       "      <td>0.0</td>\n",
       "    </tr>\n",
       "    <tr>\n",
       "      <th>1336</th>\n",
       "      <td>Brent Price</td>\n",
       "      <td>68</td>\n",
       "      <td>12.6</td>\n",
       "      <td>3.9</td>\n",
       "      <td>1.5</td>\n",
       "      <td>4.1</td>\n",
       "      <td>35.8</td>\n",
       "      <td>0.1</td>\n",
       "      <td>0.7</td>\n",
       "      <td>16.7</td>\n",
       "      <td>...</td>\n",
       "      <td>1.0</td>\n",
       "      <td>79.4</td>\n",
       "      <td>0.4</td>\n",
       "      <td>1.1</td>\n",
       "      <td>1.5</td>\n",
       "      <td>2.3</td>\n",
       "      <td>0.8</td>\n",
       "      <td>0.0</td>\n",
       "      <td>1.3</td>\n",
       "      <td>1.0</td>\n",
       "    </tr>\n",
       "    <tr>\n",
       "      <th>1337</th>\n",
       "      <td>Marlon Maxey</td>\n",
       "      <td>43</td>\n",
       "      <td>12.1</td>\n",
       "      <td>5.4</td>\n",
       "      <td>2.2</td>\n",
       "      <td>3.9</td>\n",
       "      <td>55.0</td>\n",
       "      <td>0.0</td>\n",
       "      <td>0.0</td>\n",
       "      <td>0.0</td>\n",
       "      <td>...</td>\n",
       "      <td>1.6</td>\n",
       "      <td>64.3</td>\n",
       "      <td>1.5</td>\n",
       "      <td>2.3</td>\n",
       "      <td>3.8</td>\n",
       "      <td>0.3</td>\n",
       "      <td>0.3</td>\n",
       "      <td>0.4</td>\n",
       "      <td>0.9</td>\n",
       "      <td>0.0</td>\n",
       "    </tr>\n",
       "    <tr>\n",
       "      <th>1338</th>\n",
       "      <td>Litterial Green</td>\n",
       "      <td>52</td>\n",
       "      <td>12.0</td>\n",
       "      <td>4.5</td>\n",
       "      <td>1.7</td>\n",
       "      <td>3.8</td>\n",
       "      <td>43.9</td>\n",
       "      <td>0.0</td>\n",
       "      <td>0.2</td>\n",
       "      <td>10.0</td>\n",
       "      <td>...</td>\n",
       "      <td>1.8</td>\n",
       "      <td>62.5</td>\n",
       "      <td>0.2</td>\n",
       "      <td>0.4</td>\n",
       "      <td>0.7</td>\n",
       "      <td>2.2</td>\n",
       "      <td>0.4</td>\n",
       "      <td>0.1</td>\n",
       "      <td>0.8</td>\n",
       "      <td>1.0</td>\n",
       "    </tr>\n",
       "    <tr>\n",
       "      <th>1339</th>\n",
       "      <td>Jon Barry</td>\n",
       "      <td>47</td>\n",
       "      <td>11.7</td>\n",
       "      <td>4.4</td>\n",
       "      <td>1.6</td>\n",
       "      <td>4.4</td>\n",
       "      <td>36.9</td>\n",
       "      <td>0.4</td>\n",
       "      <td>1.3</td>\n",
       "      <td>33.3</td>\n",
       "      <td>...</td>\n",
       "      <td>1.0</td>\n",
       "      <td>67.3</td>\n",
       "      <td>0.2</td>\n",
       "      <td>0.7</td>\n",
       "      <td>0.9</td>\n",
       "      <td>1.4</td>\n",
       "      <td>0.7</td>\n",
       "      <td>0.1</td>\n",
       "      <td>0.9</td>\n",
       "      <td>1.0</td>\n",
       "    </tr>\n",
       "  </tbody>\n",
       "</table>\n",
       "<p>5 rows × 21 columns</p>\n",
       "</div>"
      ],
      "text/plain": [
       "                 Name  GP   MIN  PTS  FGM  FGA   FG%  3P Made  3PA   3P%  ...  \\\n",
       "1335      Chris Smith  80  15.8  4.3  1.6  3.6  43.3      0.0  0.2  14.3  ...   \n",
       "1336      Brent Price  68  12.6  3.9  1.5  4.1  35.8      0.1  0.7  16.7  ...   \n",
       "1337     Marlon Maxey  43  12.1  5.4  2.2  3.9  55.0      0.0  0.0   0.0  ...   \n",
       "1338  Litterial Green  52  12.0  4.5  1.7  3.8  43.9      0.0  0.2  10.0  ...   \n",
       "1339        Jon Barry  47  11.7  4.4  1.6  4.4  36.9      0.4  1.3  33.3  ...   \n",
       "\n",
       "      FTA   FT%  OREB  DREB  REB  AST  STL  BLK  TOV  TARGET_5Yrs  \n",
       "1335  1.5  79.2   0.4   0.8  1.2  2.5  0.6  0.2  0.8          0.0  \n",
       "1336  1.0  79.4   0.4   1.1  1.5  2.3  0.8  0.0  1.3          1.0  \n",
       "1337  1.6  64.3   1.5   2.3  3.8  0.3  0.3  0.4  0.9          0.0  \n",
       "1338  1.8  62.5   0.2   0.4  0.7  2.2  0.4  0.1  0.8          1.0  \n",
       "1339  1.0  67.3   0.2   0.7  0.9  1.4  0.7  0.1  0.9          1.0  \n",
       "\n",
       "[5 rows x 21 columns]"
      ]
     },
     "execution_count": 6,
     "metadata": {},
     "output_type": "execute_result"
    }
   ],
   "source": [
    "nba.tail()\n",
    "# to see last 5 instances"
   ]
  },
  {
   "cell_type": "code",
   "execution_count": 7,
   "id": "6ea7d15a",
   "metadata": {},
   "outputs": [
    {
     "data": {
      "text/plain": [
       "(1340, 21)"
      ]
     },
     "execution_count": 7,
     "metadata": {},
     "output_type": "execute_result"
    }
   ],
   "source": [
    "nba.shape\n",
    "# data has 21 columns and 1340 rows"
   ]
  },
  {
   "cell_type": "code",
   "execution_count": 8,
   "id": "d90be175",
   "metadata": {},
   "outputs": [
    {
     "data": {
      "text/plain": [
       "Name            0\n",
       "GP              0\n",
       "MIN             0\n",
       "PTS             0\n",
       "FGM             0\n",
       "FGA             0\n",
       "FG%             0\n",
       "3P Made         0\n",
       "3PA             0\n",
       "3P%            11\n",
       "FTM             0\n",
       "FTA             0\n",
       "FT%             0\n",
       "OREB            0\n",
       "DREB            0\n",
       "REB             0\n",
       "AST             0\n",
       "STL             0\n",
       "BLK             0\n",
       "TOV             0\n",
       "TARGET_5Yrs     0\n",
       "dtype: int64"
      ]
     },
     "execution_count": 8,
     "metadata": {},
     "output_type": "execute_result"
    }
   ],
   "source": [
    "nba.isnull().sum()\n",
    "# checking any null values "
   ]
  },
  {
   "cell_type": "code",
   "execution_count": 9,
   "id": "299ff0cd",
   "metadata": {},
   "outputs": [],
   "source": [
    "nba['3P%'] = nba['3P%'].fillna(nba['3P%'].median())\n",
    "# we handle the nulls using the fillna"
   ]
  },
  {
   "cell_type": "code",
   "execution_count": 10,
   "id": "17bac490",
   "metadata": {},
   "outputs": [
    {
     "data": {
      "text/plain": [
       "Name           0\n",
       "GP             0\n",
       "MIN            0\n",
       "PTS            0\n",
       "FGM            0\n",
       "FGA            0\n",
       "FG%            0\n",
       "3P Made        0\n",
       "3PA            0\n",
       "3P%            0\n",
       "FTM            0\n",
       "FTA            0\n",
       "FT%            0\n",
       "OREB           0\n",
       "DREB           0\n",
       "REB            0\n",
       "AST            0\n",
       "STL            0\n",
       "BLK            0\n",
       "TOV            0\n",
       "TARGET_5Yrs    0\n",
       "dtype: int64"
      ]
     },
     "execution_count": 10,
     "metadata": {},
     "output_type": "execute_result"
    }
   ],
   "source": [
    "nba.isnull().sum()\n",
    "# after dealing with null values we check again their null exist or not"
   ]
  },
  {
   "cell_type": "code",
   "execution_count": 11,
   "id": "127a3ac9",
   "metadata": {},
   "outputs": [
    {
     "data": {
      "text/plain": [
       "Index(['Name', 'GP', 'MIN', 'PTS', 'FGM', 'FGA', 'FG%', '3P Made', '3PA',\n",
       "       '3P%', 'FTM', 'FTA', 'FT%', 'OREB', 'DREB', 'REB', 'AST', 'STL', 'BLK',\n",
       "       'TOV', 'TARGET_5Yrs'],\n",
       "      dtype='object')"
      ]
     },
     "execution_count": 11,
     "metadata": {},
     "output_type": "execute_result"
    }
   ],
   "source": [
    "nba.columns\n",
    "# columns name"
   ]
  },
  {
   "cell_type": "code",
   "execution_count": 12,
   "id": "bc91c2dc",
   "metadata": {},
   "outputs": [
    {
     "name": "stdout",
     "output_type": "stream",
     "text": [
      "<class 'pandas.core.frame.DataFrame'>\n",
      "RangeIndex: 1340 entries, 0 to 1339\n",
      "Data columns (total 21 columns):\n",
      " #   Column       Non-Null Count  Dtype  \n",
      "---  ------       --------------  -----  \n",
      " 0   Name         1340 non-null   object \n",
      " 1   GP           1340 non-null   int64  \n",
      " 2   MIN          1340 non-null   float64\n",
      " 3   PTS          1340 non-null   float64\n",
      " 4   FGM          1340 non-null   float64\n",
      " 5   FGA          1340 non-null   float64\n",
      " 6   FG%          1340 non-null   float64\n",
      " 7   3P Made      1340 non-null   float64\n",
      " 8   3PA          1340 non-null   float64\n",
      " 9   3P%          1340 non-null   float64\n",
      " 10  FTM          1340 non-null   float64\n",
      " 11  FTA          1340 non-null   float64\n",
      " 12  FT%          1340 non-null   float64\n",
      " 13  OREB         1340 non-null   float64\n",
      " 14  DREB         1340 non-null   float64\n",
      " 15  REB          1340 non-null   float64\n",
      " 16  AST          1340 non-null   float64\n",
      " 17  STL          1340 non-null   float64\n",
      " 18  BLK          1340 non-null   float64\n",
      " 19  TOV          1340 non-null   float64\n",
      " 20  TARGET_5Yrs  1340 non-null   float64\n",
      "dtypes: float64(19), int64(1), object(1)\n",
      "memory usage: 220.0+ KB\n"
     ]
    }
   ],
   "source": [
    "nba.info()\n",
    "# to check the datatypes like how many object , int , float."
   ]
  },
  {
   "cell_type": "code",
   "execution_count": 13,
   "id": "0d91a811",
   "metadata": {},
   "outputs": [
    {
     "data": {
      "text/html": [
       "<div>\n",
       "<style scoped>\n",
       "    .dataframe tbody tr th:only-of-type {\n",
       "        vertical-align: middle;\n",
       "    }\n",
       "\n",
       "    .dataframe tbody tr th {\n",
       "        vertical-align: top;\n",
       "    }\n",
       "\n",
       "    .dataframe thead th {\n",
       "        text-align: right;\n",
       "    }\n",
       "</style>\n",
       "<table border=\"1\" class=\"dataframe\">\n",
       "  <thead>\n",
       "    <tr style=\"text-align: right;\">\n",
       "      <th></th>\n",
       "      <th>GP</th>\n",
       "      <th>MIN</th>\n",
       "      <th>PTS</th>\n",
       "      <th>FGM</th>\n",
       "      <th>FGA</th>\n",
       "      <th>FG%</th>\n",
       "      <th>3P Made</th>\n",
       "      <th>3PA</th>\n",
       "      <th>3P%</th>\n",
       "      <th>FTM</th>\n",
       "      <th>FTA</th>\n",
       "      <th>FT%</th>\n",
       "      <th>OREB</th>\n",
       "      <th>DREB</th>\n",
       "      <th>REB</th>\n",
       "      <th>AST</th>\n",
       "      <th>STL</th>\n",
       "      <th>BLK</th>\n",
       "      <th>TOV</th>\n",
       "      <th>TARGET_5Yrs</th>\n",
       "    </tr>\n",
       "  </thead>\n",
       "  <tbody>\n",
       "    <tr>\n",
       "      <th>GP</th>\n",
       "      <td>1.000000</td>\n",
       "      <td>0.590240</td>\n",
       "      <td>0.538471</td>\n",
       "      <td>0.542724</td>\n",
       "      <td>0.516625</td>\n",
       "      <td>0.296289</td>\n",
       "      <td>0.107423</td>\n",
       "      <td>0.098772</td>\n",
       "      <td>0.038277</td>\n",
       "      <td>0.482123</td>\n",
       "      <td>0.479487</td>\n",
       "      <td>0.196299</td>\n",
       "      <td>0.401136</td>\n",
       "      <td>0.466840</td>\n",
       "      <td>0.460406</td>\n",
       "      <td>0.372749</td>\n",
       "      <td>0.451137</td>\n",
       "      <td>0.276498</td>\n",
       "      <td>0.518167</td>\n",
       "      <td>0.396833</td>\n",
       "    </tr>\n",
       "    <tr>\n",
       "      <th>MIN</th>\n",
       "      <td>0.590240</td>\n",
       "      <td>1.000000</td>\n",
       "      <td>0.911822</td>\n",
       "      <td>0.903060</td>\n",
       "      <td>0.910247</td>\n",
       "      <td>0.203901</td>\n",
       "      <td>0.389920</td>\n",
       "      <td>0.403258</td>\n",
       "      <td>0.165136</td>\n",
       "      <td>0.791000</td>\n",
       "      <td>0.779609</td>\n",
       "      <td>0.239878</td>\n",
       "      <td>0.573062</td>\n",
       "      <td>0.745513</td>\n",
       "      <td>0.709707</td>\n",
       "      <td>0.629015</td>\n",
       "      <td>0.757034</td>\n",
       "      <td>0.399088</td>\n",
       "      <td>0.826500</td>\n",
       "      <td>0.317805</td>\n",
       "    </tr>\n",
       "    <tr>\n",
       "      <th>PTS</th>\n",
       "      <td>0.538471</td>\n",
       "      <td>0.911822</td>\n",
       "      <td>1.000000</td>\n",
       "      <td>0.990834</td>\n",
       "      <td>0.979733</td>\n",
       "      <td>0.255333</td>\n",
       "      <td>0.346682</td>\n",
       "      <td>0.356751</td>\n",
       "      <td>0.149884</td>\n",
       "      <td>0.896297</td>\n",
       "      <td>0.880703</td>\n",
       "      <td>0.258931</td>\n",
       "      <td>0.575106</td>\n",
       "      <td>0.693934</td>\n",
       "      <td>0.676849</td>\n",
       "      <td>0.552338</td>\n",
       "      <td>0.675341</td>\n",
       "      <td>0.387043</td>\n",
       "      <td>0.850366</td>\n",
       "      <td>0.315981</td>\n",
       "    </tr>\n",
       "    <tr>\n",
       "      <th>FGM</th>\n",
       "      <td>0.542724</td>\n",
       "      <td>0.903060</td>\n",
       "      <td>0.990834</td>\n",
       "      <td>1.000000</td>\n",
       "      <td>0.980050</td>\n",
       "      <td>0.291693</td>\n",
       "      <td>0.289007</td>\n",
       "      <td>0.299057</td>\n",
       "      <td>0.118570</td>\n",
       "      <td>0.848019</td>\n",
       "      <td>0.840408</td>\n",
       "      <td>0.223566</td>\n",
       "      <td>0.596687</td>\n",
       "      <td>0.703278</td>\n",
       "      <td>0.691186</td>\n",
       "      <td>0.532534</td>\n",
       "      <td>0.662640</td>\n",
       "      <td>0.398125</td>\n",
       "      <td>0.834352</td>\n",
       "      <td>0.317594</td>\n",
       "    </tr>\n",
       "    <tr>\n",
       "      <th>FGA</th>\n",
       "      <td>0.516625</td>\n",
       "      <td>0.910247</td>\n",
       "      <td>0.979733</td>\n",
       "      <td>0.980050</td>\n",
       "      <td>1.000000</td>\n",
       "      <td>0.129798</td>\n",
       "      <td>0.390253</td>\n",
       "      <td>0.413560</td>\n",
       "      <td>0.195690</td>\n",
       "      <td>0.826616</td>\n",
       "      <td>0.805559</td>\n",
       "      <td>0.269614</td>\n",
       "      <td>0.504212</td>\n",
       "      <td>0.640123</td>\n",
       "      <td>0.614328</td>\n",
       "      <td>0.589818</td>\n",
       "      <td>0.690168</td>\n",
       "      <td>0.322184</td>\n",
       "      <td>0.845989</td>\n",
       "      <td>0.292660</td>\n",
       "    </tr>\n",
       "    <tr>\n",
       "      <th>FG%</th>\n",
       "      <td>0.296289</td>\n",
       "      <td>0.203901</td>\n",
       "      <td>0.255333</td>\n",
       "      <td>0.291693</td>\n",
       "      <td>0.129798</td>\n",
       "      <td>1.000000</td>\n",
       "      <td>-0.294471</td>\n",
       "      <td>-0.350658</td>\n",
       "      <td>-0.326678</td>\n",
       "      <td>0.245776</td>\n",
       "      <td>0.300154</td>\n",
       "      <td>-0.161183</td>\n",
       "      <td>0.511367</td>\n",
       "      <td>0.410555</td>\n",
       "      <td>0.465423</td>\n",
       "      <td>-0.108797</td>\n",
       "      <td>0.056658</td>\n",
       "      <td>0.391626</td>\n",
       "      <td>0.121806</td>\n",
       "      <td>0.227134</td>\n",
       "    </tr>\n",
       "    <tr>\n",
       "      <th>3P Made</th>\n",
       "      <td>0.107423</td>\n",
       "      <td>0.389920</td>\n",
       "      <td>0.346682</td>\n",
       "      <td>0.289007</td>\n",
       "      <td>0.390253</td>\n",
       "      <td>-0.294471</td>\n",
       "      <td>1.000000</td>\n",
       "      <td>0.982616</td>\n",
       "      <td>0.587720</td>\n",
       "      <td>0.158472</td>\n",
       "      <td>0.095396</td>\n",
       "      <td>0.314355</td>\n",
       "      <td>-0.219010</td>\n",
       "      <td>0.016570</td>\n",
       "      <td>-0.072503</td>\n",
       "      <td>0.376604</td>\n",
       "      <td>0.306908</td>\n",
       "      <td>-0.158535</td>\n",
       "      <td>0.258369</td>\n",
       "      <td>0.036619</td>\n",
       "    </tr>\n",
       "    <tr>\n",
       "      <th>3PA</th>\n",
       "      <td>0.098772</td>\n",
       "      <td>0.403258</td>\n",
       "      <td>0.356751</td>\n",
       "      <td>0.299057</td>\n",
       "      <td>0.413560</td>\n",
       "      <td>-0.350658</td>\n",
       "      <td>0.982616</td>\n",
       "      <td>1.000000</td>\n",
       "      <td>0.579780</td>\n",
       "      <td>0.173533</td>\n",
       "      <td>0.108388</td>\n",
       "      <td>0.323612</td>\n",
       "      <td>-0.231897</td>\n",
       "      <td>0.011226</td>\n",
       "      <td>-0.080939</td>\n",
       "      <td>0.410531</td>\n",
       "      <td>0.338631</td>\n",
       "      <td>-0.172150</td>\n",
       "      <td>0.283925</td>\n",
       "      <td>0.018110</td>\n",
       "    </tr>\n",
       "    <tr>\n",
       "      <th>3P%</th>\n",
       "      <td>0.038277</td>\n",
       "      <td>0.165136</td>\n",
       "      <td>0.149884</td>\n",
       "      <td>0.118570</td>\n",
       "      <td>0.195690</td>\n",
       "      <td>-0.326678</td>\n",
       "      <td>0.587720</td>\n",
       "      <td>0.579780</td>\n",
       "      <td>1.000000</td>\n",
       "      <td>0.029262</td>\n",
       "      <td>-0.033065</td>\n",
       "      <td>0.320313</td>\n",
       "      <td>-0.287842</td>\n",
       "      <td>-0.122038</td>\n",
       "      <td>-0.190115</td>\n",
       "      <td>0.260425</td>\n",
       "      <td>0.192981</td>\n",
       "      <td>-0.239856</td>\n",
       "      <td>0.107456</td>\n",
       "      <td>-0.003937</td>\n",
       "    </tr>\n",
       "    <tr>\n",
       "      <th>FTM</th>\n",
       "      <td>0.482123</td>\n",
       "      <td>0.791000</td>\n",
       "      <td>0.896297</td>\n",
       "      <td>0.848019</td>\n",
       "      <td>0.826616</td>\n",
       "      <td>0.245776</td>\n",
       "      <td>0.158472</td>\n",
       "      <td>0.173533</td>\n",
       "      <td>0.029262</td>\n",
       "      <td>1.000000</td>\n",
       "      <td>0.980505</td>\n",
       "      <td>0.257818</td>\n",
       "      <td>0.583865</td>\n",
       "      <td>0.653823</td>\n",
       "      <td>0.653833</td>\n",
       "      <td>0.476214</td>\n",
       "      <td>0.600158</td>\n",
       "      <td>0.407466</td>\n",
       "      <td>0.804990</td>\n",
       "      <td>0.296841</td>\n",
       "    </tr>\n",
       "    <tr>\n",
       "      <th>FTA</th>\n",
       "      <td>0.479487</td>\n",
       "      <td>0.779609</td>\n",
       "      <td>0.880703</td>\n",
       "      <td>0.840408</td>\n",
       "      <td>0.805559</td>\n",
       "      <td>0.300154</td>\n",
       "      <td>0.095396</td>\n",
       "      <td>0.108388</td>\n",
       "      <td>-0.033065</td>\n",
       "      <td>0.980505</td>\n",
       "      <td>1.000000</td>\n",
       "      <td>0.114872</td>\n",
       "      <td>0.653445</td>\n",
       "      <td>0.700863</td>\n",
       "      <td>0.711425</td>\n",
       "      <td>0.428624</td>\n",
       "      <td>0.580065</td>\n",
       "      <td>0.468974</td>\n",
       "      <td>0.798936</td>\n",
       "      <td>0.296089</td>\n",
       "    </tr>\n",
       "    <tr>\n",
       "      <th>FT%</th>\n",
       "      <td>0.196299</td>\n",
       "      <td>0.239878</td>\n",
       "      <td>0.258931</td>\n",
       "      <td>0.223566</td>\n",
       "      <td>0.269614</td>\n",
       "      <td>-0.161183</td>\n",
       "      <td>0.314355</td>\n",
       "      <td>0.323612</td>\n",
       "      <td>0.320313</td>\n",
       "      <td>0.257818</td>\n",
       "      <td>0.114872</td>\n",
       "      <td>1.000000</td>\n",
       "      <td>-0.146786</td>\n",
       "      <td>-0.022905</td>\n",
       "      <td>-0.071105</td>\n",
       "      <td>0.296315</td>\n",
       "      <td>0.207205</td>\n",
       "      <td>-0.161152</td>\n",
       "      <td>0.199742</td>\n",
       "      <td>0.106706</td>\n",
       "    </tr>\n",
       "    <tr>\n",
       "      <th>OREB</th>\n",
       "      <td>0.401136</td>\n",
       "      <td>0.573062</td>\n",
       "      <td>0.575106</td>\n",
       "      <td>0.596687</td>\n",
       "      <td>0.504212</td>\n",
       "      <td>0.511367</td>\n",
       "      <td>-0.219010</td>\n",
       "      <td>-0.231897</td>\n",
       "      <td>-0.287842</td>\n",
       "      <td>0.583865</td>\n",
       "      <td>0.653445</td>\n",
       "      <td>-0.146786</td>\n",
       "      <td>1.000000</td>\n",
       "      <td>0.838580</td>\n",
       "      <td>0.932694</td>\n",
       "      <td>-0.012109</td>\n",
       "      <td>0.286545</td>\n",
       "      <td>0.648346</td>\n",
       "      <td>0.421695</td>\n",
       "      <td>0.293307</td>\n",
       "    </tr>\n",
       "    <tr>\n",
       "      <th>DREB</th>\n",
       "      <td>0.466840</td>\n",
       "      <td>0.745513</td>\n",
       "      <td>0.693934</td>\n",
       "      <td>0.703278</td>\n",
       "      <td>0.640123</td>\n",
       "      <td>0.410555</td>\n",
       "      <td>0.016570</td>\n",
       "      <td>0.011226</td>\n",
       "      <td>-0.122038</td>\n",
       "      <td>0.653823</td>\n",
       "      <td>0.700863</td>\n",
       "      <td>-0.022905</td>\n",
       "      <td>0.838580</td>\n",
       "      <td>1.000000</td>\n",
       "      <td>0.978177</td>\n",
       "      <td>0.186679</td>\n",
       "      <td>0.411894</td>\n",
       "      <td>0.688135</td>\n",
       "      <td>0.570187</td>\n",
       "      <td>0.284677</td>\n",
       "    </tr>\n",
       "    <tr>\n",
       "      <th>REB</th>\n",
       "      <td>0.460406</td>\n",
       "      <td>0.709707</td>\n",
       "      <td>0.676849</td>\n",
       "      <td>0.691186</td>\n",
       "      <td>0.614328</td>\n",
       "      <td>0.465423</td>\n",
       "      <td>-0.072503</td>\n",
       "      <td>-0.080939</td>\n",
       "      <td>-0.190115</td>\n",
       "      <td>0.653833</td>\n",
       "      <td>0.711425</td>\n",
       "      <td>-0.071105</td>\n",
       "      <td>0.932694</td>\n",
       "      <td>0.978177</td>\n",
       "      <td>1.000000</td>\n",
       "      <td>0.119081</td>\n",
       "      <td>0.381154</td>\n",
       "      <td>0.699672</td>\n",
       "      <td>0.536716</td>\n",
       "      <td>0.299406</td>\n",
       "    </tr>\n",
       "    <tr>\n",
       "      <th>AST</th>\n",
       "      <td>0.372749</td>\n",
       "      <td>0.629015</td>\n",
       "      <td>0.552338</td>\n",
       "      <td>0.532534</td>\n",
       "      <td>0.589818</td>\n",
       "      <td>-0.108797</td>\n",
       "      <td>0.376604</td>\n",
       "      <td>0.410531</td>\n",
       "      <td>0.260425</td>\n",
       "      <td>0.476214</td>\n",
       "      <td>0.428624</td>\n",
       "      <td>0.296315</td>\n",
       "      <td>-0.012109</td>\n",
       "      <td>0.186679</td>\n",
       "      <td>0.119081</td>\n",
       "      <td>1.000000</td>\n",
       "      <td>0.751289</td>\n",
       "      <td>-0.086470</td>\n",
       "      <td>0.747286</td>\n",
       "      <td>0.175353</td>\n",
       "    </tr>\n",
       "    <tr>\n",
       "      <th>STL</th>\n",
       "      <td>0.451137</td>\n",
       "      <td>0.757034</td>\n",
       "      <td>0.675341</td>\n",
       "      <td>0.662640</td>\n",
       "      <td>0.690168</td>\n",
       "      <td>0.056658</td>\n",
       "      <td>0.306908</td>\n",
       "      <td>0.338631</td>\n",
       "      <td>0.192981</td>\n",
       "      <td>0.600158</td>\n",
       "      <td>0.580065</td>\n",
       "      <td>0.207205</td>\n",
       "      <td>0.286545</td>\n",
       "      <td>0.411894</td>\n",
       "      <td>0.381154</td>\n",
       "      <td>0.751289</td>\n",
       "      <td>1.000000</td>\n",
       "      <td>0.133808</td>\n",
       "      <td>0.741988</td>\n",
       "      <td>0.229811</td>\n",
       "    </tr>\n",
       "    <tr>\n",
       "      <th>BLK</th>\n",
       "      <td>0.276498</td>\n",
       "      <td>0.399088</td>\n",
       "      <td>0.387043</td>\n",
       "      <td>0.398125</td>\n",
       "      <td>0.322184</td>\n",
       "      <td>0.391626</td>\n",
       "      <td>-0.158535</td>\n",
       "      <td>-0.172150</td>\n",
       "      <td>-0.239856</td>\n",
       "      <td>0.407466</td>\n",
       "      <td>0.468974</td>\n",
       "      <td>-0.161152</td>\n",
       "      <td>0.648346</td>\n",
       "      <td>0.688135</td>\n",
       "      <td>0.699672</td>\n",
       "      <td>-0.086470</td>\n",
       "      <td>0.133808</td>\n",
       "      <td>1.000000</td>\n",
       "      <td>0.282150</td>\n",
       "      <td>0.210114</td>\n",
       "    </tr>\n",
       "    <tr>\n",
       "      <th>TOV</th>\n",
       "      <td>0.518167</td>\n",
       "      <td>0.826500</td>\n",
       "      <td>0.850366</td>\n",
       "      <td>0.834352</td>\n",
       "      <td>0.845989</td>\n",
       "      <td>0.121806</td>\n",
       "      <td>0.258369</td>\n",
       "      <td>0.283925</td>\n",
       "      <td>0.107456</td>\n",
       "      <td>0.804990</td>\n",
       "      <td>0.798936</td>\n",
       "      <td>0.199742</td>\n",
       "      <td>0.421695</td>\n",
       "      <td>0.570187</td>\n",
       "      <td>0.536716</td>\n",
       "      <td>0.747286</td>\n",
       "      <td>0.741988</td>\n",
       "      <td>0.282150</td>\n",
       "      <td>1.000000</td>\n",
       "      <td>0.272348</td>\n",
       "    </tr>\n",
       "    <tr>\n",
       "      <th>TARGET_5Yrs</th>\n",
       "      <td>0.396833</td>\n",
       "      <td>0.317805</td>\n",
       "      <td>0.315981</td>\n",
       "      <td>0.317594</td>\n",
       "      <td>0.292660</td>\n",
       "      <td>0.227134</td>\n",
       "      <td>0.036619</td>\n",
       "      <td>0.018110</td>\n",
       "      <td>-0.003937</td>\n",
       "      <td>0.296841</td>\n",
       "      <td>0.296089</td>\n",
       "      <td>0.106706</td>\n",
       "      <td>0.293307</td>\n",
       "      <td>0.284677</td>\n",
       "      <td>0.299406</td>\n",
       "      <td>0.175353</td>\n",
       "      <td>0.229811</td>\n",
       "      <td>0.210114</td>\n",
       "      <td>0.272348</td>\n",
       "      <td>1.000000</td>\n",
       "    </tr>\n",
       "  </tbody>\n",
       "</table>\n",
       "</div>"
      ],
      "text/plain": [
       "                   GP       MIN       PTS       FGM       FGA       FG%  \\\n",
       "GP           1.000000  0.590240  0.538471  0.542724  0.516625  0.296289   \n",
       "MIN          0.590240  1.000000  0.911822  0.903060  0.910247  0.203901   \n",
       "PTS          0.538471  0.911822  1.000000  0.990834  0.979733  0.255333   \n",
       "FGM          0.542724  0.903060  0.990834  1.000000  0.980050  0.291693   \n",
       "FGA          0.516625  0.910247  0.979733  0.980050  1.000000  0.129798   \n",
       "FG%          0.296289  0.203901  0.255333  0.291693  0.129798  1.000000   \n",
       "3P Made      0.107423  0.389920  0.346682  0.289007  0.390253 -0.294471   \n",
       "3PA          0.098772  0.403258  0.356751  0.299057  0.413560 -0.350658   \n",
       "3P%          0.038277  0.165136  0.149884  0.118570  0.195690 -0.326678   \n",
       "FTM          0.482123  0.791000  0.896297  0.848019  0.826616  0.245776   \n",
       "FTA          0.479487  0.779609  0.880703  0.840408  0.805559  0.300154   \n",
       "FT%          0.196299  0.239878  0.258931  0.223566  0.269614 -0.161183   \n",
       "OREB         0.401136  0.573062  0.575106  0.596687  0.504212  0.511367   \n",
       "DREB         0.466840  0.745513  0.693934  0.703278  0.640123  0.410555   \n",
       "REB          0.460406  0.709707  0.676849  0.691186  0.614328  0.465423   \n",
       "AST          0.372749  0.629015  0.552338  0.532534  0.589818 -0.108797   \n",
       "STL          0.451137  0.757034  0.675341  0.662640  0.690168  0.056658   \n",
       "BLK          0.276498  0.399088  0.387043  0.398125  0.322184  0.391626   \n",
       "TOV          0.518167  0.826500  0.850366  0.834352  0.845989  0.121806   \n",
       "TARGET_5Yrs  0.396833  0.317805  0.315981  0.317594  0.292660  0.227134   \n",
       "\n",
       "              3P Made       3PA       3P%       FTM       FTA       FT%  \\\n",
       "GP           0.107423  0.098772  0.038277  0.482123  0.479487  0.196299   \n",
       "MIN          0.389920  0.403258  0.165136  0.791000  0.779609  0.239878   \n",
       "PTS          0.346682  0.356751  0.149884  0.896297  0.880703  0.258931   \n",
       "FGM          0.289007  0.299057  0.118570  0.848019  0.840408  0.223566   \n",
       "FGA          0.390253  0.413560  0.195690  0.826616  0.805559  0.269614   \n",
       "FG%         -0.294471 -0.350658 -0.326678  0.245776  0.300154 -0.161183   \n",
       "3P Made      1.000000  0.982616  0.587720  0.158472  0.095396  0.314355   \n",
       "3PA          0.982616  1.000000  0.579780  0.173533  0.108388  0.323612   \n",
       "3P%          0.587720  0.579780  1.000000  0.029262 -0.033065  0.320313   \n",
       "FTM          0.158472  0.173533  0.029262  1.000000  0.980505  0.257818   \n",
       "FTA          0.095396  0.108388 -0.033065  0.980505  1.000000  0.114872   \n",
       "FT%          0.314355  0.323612  0.320313  0.257818  0.114872  1.000000   \n",
       "OREB        -0.219010 -0.231897 -0.287842  0.583865  0.653445 -0.146786   \n",
       "DREB         0.016570  0.011226 -0.122038  0.653823  0.700863 -0.022905   \n",
       "REB         -0.072503 -0.080939 -0.190115  0.653833  0.711425 -0.071105   \n",
       "AST          0.376604  0.410531  0.260425  0.476214  0.428624  0.296315   \n",
       "STL          0.306908  0.338631  0.192981  0.600158  0.580065  0.207205   \n",
       "BLK         -0.158535 -0.172150 -0.239856  0.407466  0.468974 -0.161152   \n",
       "TOV          0.258369  0.283925  0.107456  0.804990  0.798936  0.199742   \n",
       "TARGET_5Yrs  0.036619  0.018110 -0.003937  0.296841  0.296089  0.106706   \n",
       "\n",
       "                 OREB      DREB       REB       AST       STL       BLK  \\\n",
       "GP           0.401136  0.466840  0.460406  0.372749  0.451137  0.276498   \n",
       "MIN          0.573062  0.745513  0.709707  0.629015  0.757034  0.399088   \n",
       "PTS          0.575106  0.693934  0.676849  0.552338  0.675341  0.387043   \n",
       "FGM          0.596687  0.703278  0.691186  0.532534  0.662640  0.398125   \n",
       "FGA          0.504212  0.640123  0.614328  0.589818  0.690168  0.322184   \n",
       "FG%          0.511367  0.410555  0.465423 -0.108797  0.056658  0.391626   \n",
       "3P Made     -0.219010  0.016570 -0.072503  0.376604  0.306908 -0.158535   \n",
       "3PA         -0.231897  0.011226 -0.080939  0.410531  0.338631 -0.172150   \n",
       "3P%         -0.287842 -0.122038 -0.190115  0.260425  0.192981 -0.239856   \n",
       "FTM          0.583865  0.653823  0.653833  0.476214  0.600158  0.407466   \n",
       "FTA          0.653445  0.700863  0.711425  0.428624  0.580065  0.468974   \n",
       "FT%         -0.146786 -0.022905 -0.071105  0.296315  0.207205 -0.161152   \n",
       "OREB         1.000000  0.838580  0.932694 -0.012109  0.286545  0.648346   \n",
       "DREB         0.838580  1.000000  0.978177  0.186679  0.411894  0.688135   \n",
       "REB          0.932694  0.978177  1.000000  0.119081  0.381154  0.699672   \n",
       "AST         -0.012109  0.186679  0.119081  1.000000  0.751289 -0.086470   \n",
       "STL          0.286545  0.411894  0.381154  0.751289  1.000000  0.133808   \n",
       "BLK          0.648346  0.688135  0.699672 -0.086470  0.133808  1.000000   \n",
       "TOV          0.421695  0.570187  0.536716  0.747286  0.741988  0.282150   \n",
       "TARGET_5Yrs  0.293307  0.284677  0.299406  0.175353  0.229811  0.210114   \n",
       "\n",
       "                  TOV  TARGET_5Yrs  \n",
       "GP           0.518167     0.396833  \n",
       "MIN          0.826500     0.317805  \n",
       "PTS          0.850366     0.315981  \n",
       "FGM          0.834352     0.317594  \n",
       "FGA          0.845989     0.292660  \n",
       "FG%          0.121806     0.227134  \n",
       "3P Made      0.258369     0.036619  \n",
       "3PA          0.283925     0.018110  \n",
       "3P%          0.107456    -0.003937  \n",
       "FTM          0.804990     0.296841  \n",
       "FTA          0.798936     0.296089  \n",
       "FT%          0.199742     0.106706  \n",
       "OREB         0.421695     0.293307  \n",
       "DREB         0.570187     0.284677  \n",
       "REB          0.536716     0.299406  \n",
       "AST          0.747286     0.175353  \n",
       "STL          0.741988     0.229811  \n",
       "BLK          0.282150     0.210114  \n",
       "TOV          1.000000     0.272348  \n",
       "TARGET_5Yrs  0.272348     1.000000  "
      ]
     },
     "execution_count": 13,
     "metadata": {},
     "output_type": "execute_result"
    }
   ],
   "source": [
    "nba.iloc[:,1::].corr()"
   ]
  },
  {
   "cell_type": "code",
   "execution_count": 14,
   "id": "70593fbf",
   "metadata": {},
   "outputs": [
    {
     "data": {
      "text/plain": [
       "<AxesSubplot:>"
      ]
     },
     "execution_count": 14,
     "metadata": {},
     "output_type": "execute_result"
    },
    {
     "data": {
      "image/png": "[encoded data removed]",
      "text/plain": [
       "<Figure size 1440x720 with 2 Axes>"
      ]
     },
     "metadata": {
      "needs_background": "light"
     },
     "output_type": "display_data"
    }
   ],
   "source": [
    "plt.figure(figsize=(20,10))\n",
    "sns.heatmap(nba.corr().round(1),annot=True) # changing color "
   ]
  },
  {
   "cell_type": "code",
   "execution_count": 15,
   "id": "1276311b",
   "metadata": {},
   "outputs": [
    {
     "data": {
      "text/plain": [
       "<AxesSubplot:>"
      ]
     },
     "execution_count": 15,
     "metadata": {},
     "output_type": "execute_result"
    },
    {
     "data": {
      "image/png": "[encoded data removed]",
      "text/plain": [
       "<Figure size 1440x360 with 1 Axes>"
      ]
     },
     "metadata": {
      "needs_background": "light"
     },
     "output_type": "display_data"
    }
   ],
   "source": [
    "# Showing the correlation plot for correlation of Target with each of the remaining features\n",
    "plt.figure(figsize=(16,10))\n",
    "corr = nba.corr()['TARGET_5Yrs']  #\n",
    "corr.sort_values(ascending=False).plot(kind='bar', figsize=(20,5))"
   ]
  },
  {
   "cell_type": "code",
   "execution_count": 16,
   "id": "98071466",
   "metadata": {},
   "outputs": [],
   "source": [
    "from sklearn.preprocessing import LabelEncoder\n",
    "le= LabelEncoder()"
   ]
  },
  {
   "cell_type": "code",
   "execution_count": 17,
   "id": "459bf4fa",
   "metadata": {},
   "outputs": [],
   "source": [
    "nba[nba.select_dtypes(include = ['object']).columns] = nba[nba.select_dtypes(include = ['object']).columns].apply(le.fit_transform)\n",
    "# to converting non-numeric data into numeric form"
   ]
  },
  {
   "cell_type": "code",
   "execution_count": 18,
   "id": "61d995e3",
   "metadata": {},
   "outputs": [
    {
     "name": "stdout",
     "output_type": "stream",
     "text": [
      "<class 'pandas.core.frame.DataFrame'>\n",
      "RangeIndex: 1340 entries, 0 to 1339\n",
      "Data columns (total 21 columns):\n",
      " #   Column       Non-Null Count  Dtype  \n",
      "---  ------       --------------  -----  \n",
      " 0   Name         1340 non-null   int32  \n",
      " 1   GP           1340 non-null   int64  \n",
      " 2   MIN          1340 non-null   float64\n",
      " 3   PTS          1340 non-null   float64\n",
      " 4   FGM          1340 non-null   float64\n",
      " 5   FGA          1340 non-null   float64\n",
      " 6   FG%          1340 non-null   float64\n",
      " 7   3P Made      1340 non-null   float64\n",
      " 8   3PA          1340 non-null   float64\n",
      " 9   3P%          1340 non-null   float64\n",
      " 10  FTM          1340 non-null   float64\n",
      " 11  FTA          1340 non-null   float64\n",
      " 12  FT%          1340 non-null   float64\n",
      " 13  OREB         1340 non-null   float64\n",
      " 14  DREB         1340 non-null   float64\n",
      " 15  REB          1340 non-null   float64\n",
      " 16  AST          1340 non-null   float64\n",
      " 17  STL          1340 non-null   float64\n",
      " 18  BLK          1340 non-null   float64\n",
      " 19  TOV          1340 non-null   float64\n",
      " 20  TARGET_5Yrs  1340 non-null   float64\n",
      "dtypes: float64(19), int32(1), int64(1)\n",
      "memory usage: 214.7 KB\n"
     ]
    }
   ],
   "source": [
    "nba.info()\n",
    "# to check object converted into int"
   ]
  },
  {
   "cell_type": "code",
   "execution_count": 19,
   "id": "0076a63b",
   "metadata": {},
   "outputs": [
    {
     "data": {
      "text/plain": [
       "<AxesSubplot:xlabel='TARGET_5Yrs', ylabel='count'>"
      ]
     },
     "execution_count": 19,
     "metadata": {},
     "output_type": "execute_result"
    },
    {
     "data": {
      "image/png": "[encoded data removed]",
      "text/plain": [
       "<Figure size 432x288 with 1 Axes>"
      ]
     },
     "metadata": {
      "needs_background": "light"
     },
     "output_type": "display_data"
    }
   ],
   "source": [
    "sns.countplot(x='TARGET_5Yrs' ,data = nba )\n",
    "# to show counts using the graphical method"
   ]
  },
  {
   "cell_type": "code",
   "execution_count": 20,
   "id": "430fb905",
   "metadata": {},
   "outputs": [
    {
     "data": {
      "text/plain": [
       "<seaborn.axisgrid.FacetGrid at 0x18dd0622640>"
      ]
     },
     "execution_count": 20,
     "metadata": {},
     "output_type": "execute_result"
    },
    {
     "data": {
      "image/png": "[encoded data removed]",
      "text/plain": [
       "<Figure size 360x360 with 1 Axes>"
      ]
     },
     "metadata": {
      "needs_background": "light"
     },
     "output_type": "display_data"
    }
   ],
   "source": [
    "sns.displot(nba['FG%'])"
   ]
  },
  {
   "cell_type": "code",
   "execution_count": 21,
   "id": "d9eef09b",
   "metadata": {},
   "outputs": [
    {
     "name": "stderr",
     "output_type": "stream",
     "text": [
      "C:\\Users\\owner\\anaconda3\\lib\\site-packages\\seaborn\\_decorators.py:36: FutureWarning: Pass the following variable as a keyword arg: x. From version 0.12, the only valid positional argument will be `data`, and passing other arguments without an explicit keyword will result in an error or misinterpretation.\n",
      "  warnings.warn(\n"
     ]
    },
    {
     "data": {
      "text/plain": [
       "<AxesSubplot:xlabel='FG%'>"
      ]
     },
     "execution_count": 21,
     "metadata": {},
     "output_type": "execute_result"
    },
    {
     "data": {
      "image/png": "[encoded data removed]",
      "text/plain": [
       "<Figure size 432x288 with 1 Axes>"
      ]
     },
     "metadata": {
      "needs_background": "light"
     },
     "output_type": "display_data"
    }
   ],
   "source": [
    "sns.boxplot(nba['FG%'])"
   ]
  },
  {
   "cell_type": "code",
   "execution_count": 22,
   "id": "2a4c75b5",
   "metadata": {
    "scrolled": true
   },
   "outputs": [
    {
     "data": {
      "text/plain": [
       "<seaborn.axisgrid.FacetGrid at 0x18dd056c730>"
      ]
     },
     "execution_count": 22,
     "metadata": {},
     "output_type": "execute_result"
    },
    {
     "data": {
      "image/png": "[encoded data removed]",
      "text/plain": [
       "<Figure size 360x360 with 1 Axes>"
      ]
     },
     "metadata": {
      "needs_background": "light"
     },
     "output_type": "display_data"
    }
   ],
   "source": [
    "sns.displot(nba['3P%'])"
   ]
  },
  {
   "cell_type": "code",
   "execution_count": 23,
   "id": "dd03c882",
   "metadata": {},
   "outputs": [
    {
     "name": "stderr",
     "output_type": "stream",
     "text": [
      "C:\\Users\\owner\\anaconda3\\lib\\site-packages\\seaborn\\_decorators.py:36: FutureWarning: Pass the following variable as a keyword arg: x. From version 0.12, the only valid positional argument will be `data`, and passing other arguments without an explicit keyword will result in an error or misinterpretation.\n",
      "  warnings.warn(\n"
     ]
    },
    {
     "data": {
      "text/plain": [
       "<AxesSubplot:xlabel='3P%'>"
      ]
     },
     "execution_count": 23,
     "metadata": {},
     "output_type": "execute_result"
    },
    {
     "data": {
      "image/png": "[encoded data removed]",
      "text/plain": [
       "<Figure size 432x288 with 1 Axes>"
      ]
     },
     "metadata": {
      "needs_background": "light"
     },
     "output_type": "display_data"
    }
   ],
   "source": [
    "sns.boxplot(nba['3P%'])"
   ]
  },
  {
   "cell_type": "code",
   "execution_count": 24,
   "id": "12a847b5",
   "metadata": {},
   "outputs": [
    {
     "data": {
      "text/plain": [
       "<seaborn.axisgrid.FacetGrid at 0x18dd207cd90>"
      ]
     },
     "execution_count": 24,
     "metadata": {},
     "output_type": "execute_result"
    },
    {
     "data": {
      "image/png": "[encoded data removed]",
      "text/plain": [
       "<Figure size 360x360 with 1 Axes>"
      ]
     },
     "metadata": {
      "needs_background": "light"
     },
     "output_type": "display_data"
    }
   ],
   "source": [
    "sns.displot(nba.PTS)"
   ]
  },
  {
   "cell_type": "code",
   "execution_count": 25,
   "id": "c038427b",
   "metadata": {},
   "outputs": [
    {
     "name": "stderr",
     "output_type": "stream",
     "text": [
      "C:\\Users\\owner\\anaconda3\\lib\\site-packages\\seaborn\\_decorators.py:36: FutureWarning: Pass the following variable as a keyword arg: x. From version 0.12, the only valid positional argument will be `data`, and passing other arguments without an explicit keyword will result in an error or misinterpretation.\n",
      "  warnings.warn(\n"
     ]
    },
    {
     "data": {
      "text/plain": [
       "<AxesSubplot:xlabel='PTS'>"
      ]
     },
     "execution_count": 25,
     "metadata": {},
     "output_type": "execute_result"
    },
    {
     "data": {
      "image/png": "[encoded data removed]",
      "text/plain": [
       "<Figure size 432x288 with 1 Axes>"
      ]
     },
     "metadata": {
      "needs_background": "light"
     },
     "output_type": "display_data"
    }
   ],
   "source": [
    "sns.boxplot(nba.PTS)"
   ]
  },
  {
   "cell_type": "code",
   "execution_count": 26,
   "id": "df0f4cf9",
   "metadata": {},
   "outputs": [
    {
     "data": {
      "text/plain": [
       "<seaborn.axisgrid.FacetGrid at 0x18dd2186e20>"
      ]
     },
     "execution_count": 26,
     "metadata": {},
     "output_type": "execute_result"
    },
    {
     "data": {
      "image/png": "[encoded data removed]",
      "text/plain": [
       "<Figure size 360x360 with 1 Axes>"
      ]
     },
     "metadata": {
      "needs_background": "light"
     },
     "output_type": "display_data"
    }
   ],
   "source": [
    "sns.displot(nba['FT%'])"
   ]
  },
  {
   "cell_type": "code",
   "execution_count": 27,
   "id": "3cee5c0c",
   "metadata": {},
   "outputs": [
    {
     "name": "stderr",
     "output_type": "stream",
     "text": [
      "C:\\Users\\owner\\anaconda3\\lib\\site-packages\\seaborn\\_decorators.py:36: FutureWarning: Pass the following variable as a keyword arg: x. From version 0.12, the only valid positional argument will be `data`, and passing other arguments without an explicit keyword will result in an error or misinterpretation.\n",
      "  warnings.warn(\n"
     ]
    },
    {
     "data": {
      "text/plain": [
       "<AxesSubplot:xlabel='FT%'>"
      ]
     },
     "execution_count": 27,
     "metadata": {},
     "output_type": "execute_result"
    },
    {
     "data": {
      "image/png": "[encoded data removed]",
      "text/plain": [
       "<Figure size 432x288 with 1 Axes>"
      ]
     },
     "metadata": {
      "needs_background": "light"
     },
     "output_type": "display_data"
    }
   ],
   "source": [
    "sns.boxplot(nba['FT%'])"
   ]
  },
  {
   "cell_type": "code",
   "execution_count": 28,
   "id": "e2cb20ad",
   "metadata": {},
   "outputs": [
    {
     "data": {
      "text/plain": [
       "<seaborn.axisgrid.FacetGrid at 0x18dd22b0880>"
      ]
     },
     "execution_count": 28,
     "metadata": {},
     "output_type": "execute_result"
    },
    {
     "data": {
      "image/png": "[encoded data removed]",
      "text/plain": [
       "<Figure size 360x360 with 1 Axes>"
      ]
     },
     "metadata": {
      "needs_background": "light"
     },
     "output_type": "display_data"
    }
   ],
   "source": [
    "sns.displot(nba.TOV)"
   ]
  },
  {
   "cell_type": "code",
   "execution_count": 29,
   "id": "d4eedb51",
   "metadata": {},
   "outputs": [
    {
     "name": "stderr",
     "output_type": "stream",
     "text": [
      "C:\\Users\\owner\\anaconda3\\lib\\site-packages\\seaborn\\_decorators.py:36: FutureWarning: Pass the following variable as a keyword arg: x. From version 0.12, the only valid positional argument will be `data`, and passing other arguments without an explicit keyword will result in an error or misinterpretation.\n",
      "  warnings.warn(\n"
     ]
    },
    {
     "data": {
      "text/plain": [
       "<AxesSubplot:xlabel='TOV'>"
      ]
     },
     "execution_count": 29,
     "metadata": {},
     "output_type": "execute_result"
    },
    {
     "data": {
      "image/png": "[encoded data removed]",
      "text/plain": [
       "<Figure size 432x288 with 1 Axes>"
      ]
     },
     "metadata": {
      "needs_background": "light"
     },
     "output_type": "display_data"
    }
   ],
   "source": [
    "sns.boxplot(nba.TOV)"
   ]
  },
  {
   "cell_type": "code",
   "execution_count": 30,
   "id": "04615691",
   "metadata": {},
   "outputs": [
    {
     "data": {
      "text/plain": [
       "<AxesSubplot:>"
      ]
     },
     "execution_count": 30,
     "metadata": {},
     "output_type": "execute_result"
    },
    {
     "data": {
      "image/png": "[encoded data removed]",
      "text/plain": [
       "<Figure size 1440x360 with 1 Axes>"
      ]
     },
     "metadata": {
      "needs_background": "light"
     },
     "output_type": "display_data"
    }
   ],
   "source": [
    "\n",
    "plt.figure(figsize=(16,10))\n",
    "corr = nba.corr()['TARGET_5Yrs']  #\n",
    "corr.sort_values(ascending=False).plot(kind='bar', figsize=(20,5))"
   ]
  },
  {
   "cell_type": "code",
   "execution_count": 31,
   "id": "ca1dd57a",
   "metadata": {},
   "outputs": [],
   "source": [
    "nba = nba.iloc[:, [1,2,3,4,5,6,7,8,9,10,11,12,13,14,15,16,17,18,19,20]]"
   ]
  },
  {
   "cell_type": "markdown",
   "id": "0fdf47d4",
   "metadata": {},
   "source": [
    "# SAMPLING"
   ]
  },
  {
   "cell_type": "code",
   "execution_count": 32,
   "id": "8f82aa68",
   "metadata": {},
   "outputs": [],
   "source": [
    "from sklearn.model_selection import train_test_split"
   ]
  },
  {
   "cell_type": "code",
   "execution_count": 33,
   "id": "48ea3d8f",
   "metadata": {},
   "outputs": [],
   "source": [
    "train, test= train_test_split(nba, test_size=0.2 , random_state=42)"
   ]
  },
  {
   "cell_type": "code",
   "execution_count": 34,
   "id": "bef422e7",
   "metadata": {},
   "outputs": [
    {
     "data": {
      "text/plain": [
       "(1072, 20)"
      ]
     },
     "execution_count": 34,
     "metadata": {},
     "output_type": "execute_result"
    }
   ],
   "source": [
    "train.shape"
   ]
  },
  {
   "cell_type": "code",
   "execution_count": 35,
   "id": "939442f4",
   "metadata": {},
   "outputs": [
    {
     "data": {
      "text/plain": [
       "(268, 20)"
      ]
     },
     "execution_count": 35,
     "metadata": {},
     "output_type": "execute_result"
    }
   ],
   "source": [
    "test.shape"
   ]
  },
  {
   "cell_type": "markdown",
   "id": "5cf667cf",
   "metadata": {},
   "source": [
    "df3=train[train.TARGET_5Yrs==1]\n",
    "df2=train[train.TARGET_5Yrs==0]"
   ]
  },
  {
   "cell_type": "markdown",
   "id": "09594997",
   "metadata": {},
   "source": [
    "train=pd.concat([train,df2])"
   ]
  },
  {
   "cell_type": "code",
   "execution_count": 36,
   "id": "c1f12084",
   "metadata": {},
   "outputs": [
    {
     "data": {
      "text/plain": [
       "(1072, 20)"
      ]
     },
     "execution_count": 36,
     "metadata": {},
     "output_type": "execute_result"
    }
   ],
   "source": [
    "train.shape"
   ]
  },
  {
   "cell_type": "code",
   "execution_count": 37,
   "id": "ee37e82a",
   "metadata": {},
   "outputs": [],
   "source": [
    "train_x = train.iloc[:,0:-1 ]\n",
    "train_y = train.iloc[:, -1]\n",
    "\n",
    "test_x = test.iloc[:, 0:-1]\n",
    "test_y = test.iloc[:, -1]"
   ]
  },
  {
   "cell_type": "markdown",
   "id": "e1e4c386",
   "metadata": {},
   "source": [
    "# Build the model"
   ]
  },
  {
   "cell_type": "markdown",
   "id": "517e9fb3",
   "metadata": {},
   "source": [
    "# LOGISTIC REGRESSION"
   ]
  },
  {
   "cell_type": "code",
   "execution_count": 38,
   "id": "eeadbf3b",
   "metadata": {},
   "outputs": [],
   "source": [
    "from sklearn.linear_model import LogisticRegression"
   ]
  },
  {
   "cell_type": "code",
   "execution_count": 39,
   "id": "efe1cd37",
   "metadata": {},
   "outputs": [],
   "source": [
    "log = LogisticRegression(penalty='l2')"
   ]
  },
  {
   "cell_type": "code",
   "execution_count": 40,
   "id": "fe329348",
   "metadata": {},
   "outputs": [
    {
     "name": "stderr",
     "output_type": "stream",
     "text": [
      "C:\\Users\\owner\\anaconda3\\lib\\site-packages\\sklearn\\linear_model\\_logistic.py:444: ConvergenceWarning: lbfgs failed to converge (status=1):\n",
      "STOP: TOTAL NO. of ITERATIONS REACHED LIMIT.\n",
      "\n",
      "Increase the number of iterations (max_iter) or scale the data as shown in:\n",
      "    https://scikit-learn.org/stable/modules/preprocessing.html\n",
      "Please also refer to the documentation for alternative solver options:\n",
      "    https://scikit-learn.org/stable/modules/linear_model.html#logistic-regression\n",
      "  n_iter_i = _check_optimize_result(\n"
     ]
    },
    {
     "data": {
      "text/html": [
       "<style>#sk-container-id-1 {color: black;background-color: white;}#sk-container-id-1 pre{padding: 0;}#sk-container-id-1 div.sk-toggleable {background-color: white;}#sk-container-id-1 label.sk-toggleable__label {cursor: pointer;display: block;width: 100%;margin-bottom: 0;padding: 0.3em;box-sizing: border-box;text-align: center;}#sk-container-id-1 label.sk-toggleable__label-arrow:before {content: \"▸\";float: left;margin-right: 0.25em;color: #696969;}#sk-container-id-1 label.sk-toggleable__label-arrow:hover:before {color: black;}#sk-container-id-1 div.sk-estimator:hover label.sk-toggleable__label-arrow:before {color: black;}#sk-container-id-1 div.sk-toggleable__content {max-height: 0;max-width: 0;overflow: hidden;text-align: left;background-color: #f0f8ff;}#sk-container-id-1 div.sk-toggleable__content pre {margin: 0.2em;color: black;border-radius: 0.25em;background-color: #f0f8ff;}#sk-container-id-1 input.sk-toggleable__control:checked~div.sk-toggleable__content {max-height: 200px;max-width: 100%;overflow: auto;}#sk-container-id-1 input.sk-toggleable__control:checked~label.sk-toggleable__label-arrow:before {content: \"▾\";}#sk-container-id-1 div.sk-estimator input.sk-toggleable__control:checked~label.sk-toggleable__label {background-color: #d4ebff;}#sk-container-id-1 div.sk-label input.sk-toggleable__control:checked~label.sk-toggleable__label {background-color: #d4ebff;}#sk-container-id-1 input.sk-hidden--visually {border: 0;clip: rect(1px 1px 1px 1px);clip: rect(1px, 1px, 1px, 1px);height: 1px;margin: -1px;overflow: hidden;padding: 0;position: absolute;width: 1px;}#sk-container-id-1 div.sk-estimator {font-family: monospace;background-color: #f0f8ff;border: 1px dotted black;border-radius: 0.25em;box-sizing: border-box;margin-bottom: 0.5em;}#sk-container-id-1 div.sk-estimator:hover {background-color: #d4ebff;}#sk-container-id-1 div.sk-parallel-item::after {content: \"\";width: 100%;border-bottom: 1px solid gray;flex-grow: 1;}#sk-container-id-1 div.sk-label:hover label.sk-toggleable__label {background-color: #d4ebff;}#sk-container-id-1 div.sk-serial::before {content: \"\";position: absolute;border-left: 1px solid gray;box-sizing: border-box;top: 0;bottom: 0;left: 50%;z-index: 0;}#sk-container-id-1 div.sk-serial {display: flex;flex-direction: column;align-items: center;background-color: white;padding-right: 0.2em;padding-left: 0.2em;position: relative;}#sk-container-id-1 div.sk-item {position: relative;z-index: 1;}#sk-container-id-1 div.sk-parallel {display: flex;align-items: stretch;justify-content: center;background-color: white;position: relative;}#sk-container-id-1 div.sk-item::before, #sk-container-id-1 div.sk-parallel-item::before {content: \"\";position: absolute;border-left: 1px solid gray;box-sizing: border-box;top: 0;bottom: 0;left: 50%;z-index: -1;}#sk-container-id-1 div.sk-parallel-item {display: flex;flex-direction: column;z-index: 1;position: relative;background-color: white;}#sk-container-id-1 div.sk-parallel-item:first-child::after {align-self: flex-end;width: 50%;}#sk-container-id-1 div.sk-parallel-item:last-child::after {align-self: flex-start;width: 50%;}#sk-container-id-1 div.sk-parallel-item:only-child::after {width: 0;}#sk-container-id-1 div.sk-dashed-wrapped {border: 1px dashed gray;margin: 0 0.4em 0.5em 0.4em;box-sizing: border-box;padding-bottom: 0.4em;background-color: white;}#sk-container-id-1 div.sk-label label {font-family: monospace;font-weight: bold;display: inline-block;line-height: 1.2em;}#sk-container-id-1 div.sk-label-container {text-align: center;}#sk-container-id-1 div.sk-container {/* jupyter's `normalize.less` sets `[hidden] { display: none; }` but bootstrap.min.css set `[hidden] { display: none !important; }` so we also need the `!important` here to be able to override the default hidden behavior on the sphinx rendered scikit-learn.org. See: https://github.com/scikit-learn/scikit-learn/issues/21755 */display: inline-block !important;position: relative;}#sk-container-id-1 div.sk-text-repr-fallback {display: none;}</style><div id=\"sk-container-id-1\" class=\"sk-top-container\"><div class=\"sk-text-repr-fallback\"><pre>LogisticRegression()</pre><b>In a Jupyter environment, please rerun this cell to show the HTML representation or trust the notebook. <br />On GitHub, the HTML representation is unable to render, please try loading this page with nbviewer.org.</b></div><div class=\"sk-container\" hidden><div class=\"sk-item\"><div class=\"sk-estimator sk-toggleable\"><input class=\"sk-toggleable__control sk-hidden--visually\" id=\"sk-estimator-id-1\" type=\"checkbox\" checked><label for=\"sk-estimator-id-1\" class=\"sk-toggleable__label sk-toggleable__label-arrow\">LogisticRegression</label><div class=\"sk-toggleable__content\"><pre>LogisticRegression()</pre></div></div></div></div></div>"
      ],
      "text/plain": [
       "LogisticRegression()"
      ]
     },
     "execution_count": 40,
     "metadata": {},
     "output_type": "execute_result"
    }
   ],
   "source": [
    "log.fit(train_x, train_y)"
   ]
  },
  {
   "cell_type": "code",
   "execution_count": 41,
   "id": "939d6168",
   "metadata": {},
   "outputs": [],
   "source": [
    "pred =log.predict(test_x)"
   ]
  },
  {
   "cell_type": "code",
   "execution_count": 42,
   "id": "e6caf868",
   "metadata": {},
   "outputs": [],
   "source": [
    "from sklearn.metrics import confusion_matrix\n",
    "from sklearn.metrics import accuracy_score\n",
    "from sklearn.metrics import recall_score\n",
    "from sklearn.metrics import precision_score\n",
    "from sklearn.metrics import f1_score"
   ]
  },
  {
   "cell_type": "code",
   "execution_count": 43,
   "id": "5ad04691",
   "metadata": {},
   "outputs": [],
   "source": [
    "log_cf = confusion_matrix(test_y, pred)\n",
    "log_accuracy= accuracy_score(test_y, pred)\n",
    "log_recall = recall_score(test_y, pred)\n",
    "log_precision = precision_score(test_y,pred)\n",
    "log_f1 = f1_score(test_y, pred)"
   ]
  },
  {
   "cell_type": "code",
   "execution_count": 44,
   "id": "a9fb659b",
   "metadata": {},
   "outputs": [
    {
     "data": {
      "text/plain": [
       "array([[ 54,  45],\n",
       "       [ 26, 143]], dtype=int64)"
      ]
     },
     "execution_count": 44,
     "metadata": {},
     "output_type": "execute_result"
    }
   ],
   "source": [
    "log_cf "
   ]
  },
  {
   "cell_type": "code",
   "execution_count": 45,
   "id": "e3f7828f",
   "metadata": {},
   "outputs": [
    {
     "name": "stdout",
     "output_type": "stream",
     "text": [
      "0.7350746268656716\n",
      "0.8461538461538461\n",
      "0.7606382978723404\n",
      "0.8011204481792716\n"
     ]
    }
   ],
   "source": [
    "print(log_accuracy)\n",
    "print(log_recall)\n",
    "print(log_precision)\n",
    "print(log_f1)"
   ]
  },
  {
   "cell_type": "markdown",
   "id": "9eba5b54",
   "metadata": {},
   "source": [
    "# RANDOM FOREST"
   ]
  },
  {
   "cell_type": "code",
   "execution_count": 46,
   "id": "2a6d670f",
   "metadata": {},
   "outputs": [],
   "source": [
    "from sklearn.ensemble import RandomForestClassifier"
   ]
  },
  {
   "cell_type": "code",
   "execution_count": 47,
   "id": "79d3968e",
   "metadata": {},
   "outputs": [],
   "source": [
    "rf = RandomForestClassifier(n_estimators=75,criterion='entropy')"
   ]
  },
  {
   "cell_type": "code",
   "execution_count": 48,
   "id": "0f86c345",
   "metadata": {},
   "outputs": [
    {
     "data": {
      "text/html": [
       "<style>#sk-container-id-2 {color: black;background-color: white;}#sk-container-id-2 pre{padding: 0;}#sk-container-id-2 div.sk-toggleable {background-color: white;}#sk-container-id-2 label.sk-toggleable__label {cursor: pointer;display: block;width: 100%;margin-bottom: 0;padding: 0.3em;box-sizing: border-box;text-align: center;}#sk-container-id-2 label.sk-toggleable__label-arrow:before {content: \"▸\";float: left;margin-right: 0.25em;color: #696969;}#sk-container-id-2 label.sk-toggleable__label-arrow:hover:before {color: black;}#sk-container-id-2 div.sk-estimator:hover label.sk-toggleable__label-arrow:before {color: black;}#sk-container-id-2 div.sk-toggleable__content {max-height: 0;max-width: 0;overflow: hidden;text-align: left;background-color: #f0f8ff;}#sk-container-id-2 div.sk-toggleable__content pre {margin: 0.2em;color: black;border-radius: 0.25em;background-color: #f0f8ff;}#sk-container-id-2 input.sk-toggleable__control:checked~div.sk-toggleable__content {max-height: 200px;max-width: 100%;overflow: auto;}#sk-container-id-2 input.sk-toggleable__control:checked~label.sk-toggleable__label-arrow:before {content: \"▾\";}#sk-container-id-2 div.sk-estimator input.sk-toggleable__control:checked~label.sk-toggleable__label {background-color: #d4ebff;}#sk-container-id-2 div.sk-label input.sk-toggleable__control:checked~label.sk-toggleable__label {background-color: #d4ebff;}#sk-container-id-2 input.sk-hidden--visually {border: 0;clip: rect(1px 1px 1px 1px);clip: rect(1px, 1px, 1px, 1px);height: 1px;margin: -1px;overflow: hidden;padding: 0;position: absolute;width: 1px;}#sk-container-id-2 div.sk-estimator {font-family: monospace;background-color: #f0f8ff;border: 1px dotted black;border-radius: 0.25em;box-sizing: border-box;margin-bottom: 0.5em;}#sk-container-id-2 div.sk-estimator:hover {background-color: #d4ebff;}#sk-container-id-2 div.sk-parallel-item::after {content: \"\";width: 100%;border-bottom: 1px solid gray;flex-grow: 1;}#sk-container-id-2 div.sk-label:hover label.sk-toggleable__label {background-color: #d4ebff;}#sk-container-id-2 div.sk-serial::before {content: \"\";position: absolute;border-left: 1px solid gray;box-sizing: border-box;top: 0;bottom: 0;left: 50%;z-index: 0;}#sk-container-id-2 div.sk-serial {display: flex;flex-direction: column;align-items: center;background-color: white;padding-right: 0.2em;padding-left: 0.2em;position: relative;}#sk-container-id-2 div.sk-item {position: relative;z-index: 1;}#sk-container-id-2 div.sk-parallel {display: flex;align-items: stretch;justify-content: center;background-color: white;position: relative;}#sk-container-id-2 div.sk-item::before, #sk-container-id-2 div.sk-parallel-item::before {content: \"\";position: absolute;border-left: 1px solid gray;box-sizing: border-box;top: 0;bottom: 0;left: 50%;z-index: -1;}#sk-container-id-2 div.sk-parallel-item {display: flex;flex-direction: column;z-index: 1;position: relative;background-color: white;}#sk-container-id-2 div.sk-parallel-item:first-child::after {align-self: flex-end;width: 50%;}#sk-container-id-2 div.sk-parallel-item:last-child::after {align-self: flex-start;width: 50%;}#sk-container-id-2 div.sk-parallel-item:only-child::after {width: 0;}#sk-container-id-2 div.sk-dashed-wrapped {border: 1px dashed gray;margin: 0 0.4em 0.5em 0.4em;box-sizing: border-box;padding-bottom: 0.4em;background-color: white;}#sk-container-id-2 div.sk-label label {font-family: monospace;font-weight: bold;display: inline-block;line-height: 1.2em;}#sk-container-id-2 div.sk-label-container {text-align: center;}#sk-container-id-2 div.sk-container {/* jupyter's `normalize.less` sets `[hidden] { display: none; }` but bootstrap.min.css set `[hidden] { display: none !important; }` so we also need the `!important` here to be able to override the default hidden behavior on the sphinx rendered scikit-learn.org. See: https://github.com/scikit-learn/scikit-learn/issues/21755 */display: inline-block !important;position: relative;}#sk-container-id-2 div.sk-text-repr-fallback {display: none;}</style><div id=\"sk-container-id-2\" class=\"sk-top-container\"><div class=\"sk-text-repr-fallback\"><pre>RandomForestClassifier(criterion=&#x27;entropy&#x27;, n_estimators=75)</pre><b>In a Jupyter environment, please rerun this cell to show the HTML representation or trust the notebook. <br />On GitHub, the HTML representation is unable to render, please try loading this page with nbviewer.org.</b></div><div class=\"sk-container\" hidden><div class=\"sk-item\"><div class=\"sk-estimator sk-toggleable\"><input class=\"sk-toggleable__control sk-hidden--visually\" id=\"sk-estimator-id-2\" type=\"checkbox\" checked><label for=\"sk-estimator-id-2\" class=\"sk-toggleable__label sk-toggleable__label-arrow\">RandomForestClassifier</label><div class=\"sk-toggleable__content\"><pre>RandomForestClassifier(criterion=&#x27;entropy&#x27;, n_estimators=75)</pre></div></div></div></div></div>"
      ],
      "text/plain": [
       "RandomForestClassifier(criterion='entropy', n_estimators=75)"
      ]
     },
     "execution_count": 48,
     "metadata": {},
     "output_type": "execute_result"
    }
   ],
   "source": [
    "rf.fit(train_x, train_y)"
   ]
  },
  {
   "cell_type": "code",
   "execution_count": 49,
   "id": "cb85b112",
   "metadata": {},
   "outputs": [],
   "source": [
    "nba1 = nba.iloc[:, [0,1,2,3,4,5,6,7,8,9,10,11,12,13,14,15,16,17,18]]"
   ]
  },
  {
   "cell_type": "code",
   "execution_count": 50,
   "id": "1be9a2ca",
   "metadata": {},
   "outputs": [],
   "source": [
    "a =list(rf.feature_importances_)\n",
    "b= list(nba1.columns)"
   ]
  },
  {
   "cell_type": "code",
   "execution_count": 51,
   "id": "9e98d91d",
   "metadata": {},
   "outputs": [],
   "source": [
    "df = pd.DataFrame()"
   ]
  },
  {
   "cell_type": "code",
   "execution_count": 52,
   "id": "8a9e20b4",
   "metadata": {},
   "outputs": [],
   "source": [
    "df['FEATURES NAME'] = b\n",
    "df['FEATURES VALUES'] = a"
   ]
  },
  {
   "cell_type": "code",
   "execution_count": 53,
   "id": "ba345611",
   "metadata": {},
   "outputs": [
    {
     "data": {
      "text/html": [
       "<div>\n",
       "<style scoped>\n",
       "    .dataframe tbody tr th:only-of-type {\n",
       "        vertical-align: middle;\n",
       "    }\n",
       "\n",
       "    .dataframe tbody tr th {\n",
       "        vertical-align: top;\n",
       "    }\n",
       "\n",
       "    .dataframe thead th {\n",
       "        text-align: right;\n",
       "    }\n",
       "</style>\n",
       "<table border=\"1\" class=\"dataframe\">\n",
       "  <thead>\n",
       "    <tr style=\"text-align: right;\">\n",
       "      <th></th>\n",
       "      <th>FEATURES NAME</th>\n",
       "      <th>FEATURES VALUES</th>\n",
       "    </tr>\n",
       "  </thead>\n",
       "  <tbody>\n",
       "    <tr>\n",
       "      <th>0</th>\n",
       "      <td>GP</td>\n",
       "      <td>0.099912</td>\n",
       "    </tr>\n",
       "    <tr>\n",
       "      <th>1</th>\n",
       "      <td>MIN</td>\n",
       "      <td>0.063068</td>\n",
       "    </tr>\n",
       "    <tr>\n",
       "      <th>2</th>\n",
       "      <td>PTS</td>\n",
       "      <td>0.063421</td>\n",
       "    </tr>\n",
       "    <tr>\n",
       "      <th>3</th>\n",
       "      <td>FGM</td>\n",
       "      <td>0.062801</td>\n",
       "    </tr>\n",
       "    <tr>\n",
       "      <th>4</th>\n",
       "      <td>FGA</td>\n",
       "      <td>0.051888</td>\n",
       "    </tr>\n",
       "    <tr>\n",
       "      <th>5</th>\n",
       "      <td>FG%</td>\n",
       "      <td>0.074310</td>\n",
       "    </tr>\n",
       "    <tr>\n",
       "      <th>6</th>\n",
       "      <td>3P Made</td>\n",
       "      <td>0.021248</td>\n",
       "    </tr>\n",
       "    <tr>\n",
       "      <th>7</th>\n",
       "      <td>3PA</td>\n",
       "      <td>0.039116</td>\n",
       "    </tr>\n",
       "    <tr>\n",
       "      <th>8</th>\n",
       "      <td>3P%</td>\n",
       "      <td>0.046654</td>\n",
       "    </tr>\n",
       "    <tr>\n",
       "      <th>9</th>\n",
       "      <td>FTM</td>\n",
       "      <td>0.048579</td>\n",
       "    </tr>\n",
       "    <tr>\n",
       "      <th>10</th>\n",
       "      <td>FTA</td>\n",
       "      <td>0.050366</td>\n",
       "    </tr>\n",
       "    <tr>\n",
       "      <th>11</th>\n",
       "      <td>FT%</td>\n",
       "      <td>0.068830</td>\n",
       "    </tr>\n",
       "    <tr>\n",
       "      <th>12</th>\n",
       "      <td>OREB</td>\n",
       "      <td>0.051516</td>\n",
       "    </tr>\n",
       "    <tr>\n",
       "      <th>13</th>\n",
       "      <td>DREB</td>\n",
       "      <td>0.048348</td>\n",
       "    </tr>\n",
       "    <tr>\n",
       "      <th>14</th>\n",
       "      <td>REB</td>\n",
       "      <td>0.053857</td>\n",
       "    </tr>\n",
       "    <tr>\n",
       "      <th>15</th>\n",
       "      <td>AST</td>\n",
       "      <td>0.045726</td>\n",
       "    </tr>\n",
       "    <tr>\n",
       "      <th>16</th>\n",
       "      <td>STL</td>\n",
       "      <td>0.031783</td>\n",
       "    </tr>\n",
       "    <tr>\n",
       "      <th>17</th>\n",
       "      <td>BLK</td>\n",
       "      <td>0.036992</td>\n",
       "    </tr>\n",
       "    <tr>\n",
       "      <th>18</th>\n",
       "      <td>TOV</td>\n",
       "      <td>0.041586</td>\n",
       "    </tr>\n",
       "  </tbody>\n",
       "</table>\n",
       "</div>"
      ],
      "text/plain": [
       "   FEATURES NAME  FEATURES VALUES\n",
       "0             GP         0.099912\n",
       "1            MIN         0.063068\n",
       "2            PTS         0.063421\n",
       "3            FGM         0.062801\n",
       "4            FGA         0.051888\n",
       "5            FG%         0.074310\n",
       "6        3P Made         0.021248\n",
       "7            3PA         0.039116\n",
       "8            3P%         0.046654\n",
       "9            FTM         0.048579\n",
       "10           FTA         0.050366\n",
       "11           FT%         0.068830\n",
       "12          OREB         0.051516\n",
       "13          DREB         0.048348\n",
       "14           REB         0.053857\n",
       "15           AST         0.045726\n",
       "16           STL         0.031783\n",
       "17           BLK         0.036992\n",
       "18           TOV         0.041586"
      ]
     },
     "execution_count": 53,
     "metadata": {},
     "output_type": "execute_result"
    }
   ],
   "source": [
    "df"
   ]
  },
  {
   "cell_type": "code",
   "execution_count": 54,
   "id": "b2843ab4",
   "metadata": {},
   "outputs": [],
   "source": [
    "pred_rf = rf.predict(test_x)"
   ]
  },
  {
   "cell_type": "code",
   "execution_count": 55,
   "id": "e2b0b52a",
   "metadata": {},
   "outputs": [],
   "source": [
    "rf_cf = confusion_matrix(test_y, pred_rf)\n",
    "rf_accuracy= accuracy_score(test_y, pred_rf)\n",
    "rf_recall = recall_score(test_y, pred_rf)\n",
    "rf_precision = precision_score(test_y,pred_rf)\n",
    "rf_f1 = f1_score(test_y, pred_rf)"
   ]
  },
  {
   "cell_type": "code",
   "execution_count": 57,
   "id": "ff5c3f0e",
   "metadata": {},
   "outputs": [
    {
     "name": "stdout",
     "output_type": "stream",
     "text": [
      "0.7052238805970149\n",
      "0.834319526627219\n",
      "0.734375\n",
      "0.7811634349030471\n"
     ]
    }
   ],
   "source": [
    "print(rf_accuracy)\n",
    "print(rf_recall)\n",
    "print(rf_precision)\n",
    "print(rf_f1)"
   ]
  },
  {
   "cell_type": "markdown",
   "id": "b95f062f",
   "metadata": {},
   "source": [
    "# KNN"
   ]
  },
  {
   "cell_type": "code",
   "execution_count": 58,
   "id": "37ba56be",
   "metadata": {},
   "outputs": [],
   "source": [
    "from sklearn.neighbors import KNeighborsClassifier"
   ]
  },
  {
   "cell_type": "code",
   "execution_count": 59,
   "id": "184ec856",
   "metadata": {},
   "outputs": [],
   "source": [
    "knn = KNeighborsClassifier(n_neighbors=7)"
   ]
  },
  {
   "cell_type": "code",
   "execution_count": 60,
   "id": "5b223eac",
   "metadata": {},
   "outputs": [
    {
     "data": {
      "text/html": [
       "<style>#sk-container-id-3 {color: black;background-color: white;}#sk-container-id-3 pre{padding: 0;}#sk-container-id-3 div.sk-toggleable {background-color: white;}#sk-container-id-3 label.sk-toggleable__label {cursor: pointer;display: block;width: 100%;margin-bottom: 0;padding: 0.3em;box-sizing: border-box;text-align: center;}#sk-container-id-3 label.sk-toggleable__label-arrow:before {content: \"▸\";float: left;margin-right: 0.25em;color: #696969;}#sk-container-id-3 label.sk-toggleable__label-arrow:hover:before {color: black;}#sk-container-id-3 div.sk-estimator:hover label.sk-toggleable__label-arrow:before {color: black;}#sk-container-id-3 div.sk-toggleable__content {max-height: 0;max-width: 0;overflow: hidden;text-align: left;background-color: #f0f8ff;}#sk-container-id-3 div.sk-toggleable__content pre {margin: 0.2em;color: black;border-radius: 0.25em;background-color: #f0f8ff;}#sk-container-id-3 input.sk-toggleable__control:checked~div.sk-toggleable__content {max-height: 200px;max-width: 100%;overflow: auto;}#sk-container-id-3 input.sk-toggleable__control:checked~label.sk-toggleable__label-arrow:before {content: \"▾\";}#sk-container-id-3 div.sk-estimator input.sk-toggleable__control:checked~label.sk-toggleable__label {background-color: #d4ebff;}#sk-container-id-3 div.sk-label input.sk-toggleable__control:checked~label.sk-toggleable__label {background-color: #d4ebff;}#sk-container-id-3 input.sk-hidden--visually {border: 0;clip: rect(1px 1px 1px 1px);clip: rect(1px, 1px, 1px, 1px);height: 1px;margin: -1px;overflow: hidden;padding: 0;position: absolute;width: 1px;}#sk-container-id-3 div.sk-estimator {font-family: monospace;background-color: #f0f8ff;border: 1px dotted black;border-radius: 0.25em;box-sizing: border-box;margin-bottom: 0.5em;}#sk-container-id-3 div.sk-estimator:hover {background-color: #d4ebff;}#sk-container-id-3 div.sk-parallel-item::after {content: \"\";width: 100%;border-bottom: 1px solid gray;flex-grow: 1;}#sk-container-id-3 div.sk-label:hover label.sk-toggleable__label {background-color: #d4ebff;}#sk-container-id-3 div.sk-serial::before {content: \"\";position: absolute;border-left: 1px solid gray;box-sizing: border-box;top: 0;bottom: 0;left: 50%;z-index: 0;}#sk-container-id-3 div.sk-serial {display: flex;flex-direction: column;align-items: center;background-color: white;padding-right: 0.2em;padding-left: 0.2em;position: relative;}#sk-container-id-3 div.sk-item {position: relative;z-index: 1;}#sk-container-id-3 div.sk-parallel {display: flex;align-items: stretch;justify-content: center;background-color: white;position: relative;}#sk-container-id-3 div.sk-item::before, #sk-container-id-3 div.sk-parallel-item::before {content: \"\";position: absolute;border-left: 1px solid gray;box-sizing: border-box;top: 0;bottom: 0;left: 50%;z-index: -1;}#sk-container-id-3 div.sk-parallel-item {display: flex;flex-direction: column;z-index: 1;position: relative;background-color: white;}#sk-container-id-3 div.sk-parallel-item:first-child::after {align-self: flex-end;width: 50%;}#sk-container-id-3 div.sk-parallel-item:last-child::after {align-self: flex-start;width: 50%;}#sk-container-id-3 div.sk-parallel-item:only-child::after {width: 0;}#sk-container-id-3 div.sk-dashed-wrapped {border: 1px dashed gray;margin: 0 0.4em 0.5em 0.4em;box-sizing: border-box;padding-bottom: 0.4em;background-color: white;}#sk-container-id-3 div.sk-label label {font-family: monospace;font-weight: bold;display: inline-block;line-height: 1.2em;}#sk-container-id-3 div.sk-label-container {text-align: center;}#sk-container-id-3 div.sk-container {/* jupyter's `normalize.less` sets `[hidden] { display: none; }` but bootstrap.min.css set `[hidden] { display: none !important; }` so we also need the `!important` here to be able to override the default hidden behavior on the sphinx rendered scikit-learn.org. See: https://github.com/scikit-learn/scikit-learn/issues/21755 */display: inline-block !important;position: relative;}#sk-container-id-3 div.sk-text-repr-fallback {display: none;}</style><div id=\"sk-container-id-3\" class=\"sk-top-container\"><div class=\"sk-text-repr-fallback\"><pre>KNeighborsClassifier(n_neighbors=7)</pre><b>In a Jupyter environment, please rerun this cell to show the HTML representation or trust the notebook. <br />On GitHub, the HTML representation is unable to render, please try loading this page with nbviewer.org.</b></div><div class=\"sk-container\" hidden><div class=\"sk-item\"><div class=\"sk-estimator sk-toggleable\"><input class=\"sk-toggleable__control sk-hidden--visually\" id=\"sk-estimator-id-3\" type=\"checkbox\" checked><label for=\"sk-estimator-id-3\" class=\"sk-toggleable__label sk-toggleable__label-arrow\">KNeighborsClassifier</label><div class=\"sk-toggleable__content\"><pre>KNeighborsClassifier(n_neighbors=7)</pre></div></div></div></div></div>"
      ],
      "text/plain": [
       "KNeighborsClassifier(n_neighbors=7)"
      ]
     },
     "execution_count": 60,
     "metadata": {},
     "output_type": "execute_result"
    }
   ],
   "source": [
    "knn.fit(train_x, train_y)"
   ]
  },
  {
   "cell_type": "code",
   "execution_count": 61,
   "id": "8eeaf1a0",
   "metadata": {},
   "outputs": [],
   "source": [
    "pred_knn = knn.predict(test_x)"
   ]
  },
  {
   "cell_type": "code",
   "execution_count": 62,
   "id": "49b0b3c2",
   "metadata": {},
   "outputs": [],
   "source": [
    "knn_cf = confusion_matrix(test_y, pred_knn)\n",
    "knn_accuracy= accuracy_score(test_y, pred_knn)\n",
    "knn_recall = recall_score(test_y, pred_knn)\n",
    "knn_precision = precision_score(test_y,pred_knn)\n",
    "knn_f1 = f1_score(test_y, pred_knn)"
   ]
  },
  {
   "cell_type": "code",
   "execution_count": 63,
   "id": "f08b62f1",
   "metadata": {},
   "outputs": [
    {
     "data": {
      "text/plain": [
       "array([[ 46,  53],\n",
       "       [ 31, 138]], dtype=int64)"
      ]
     },
     "execution_count": 63,
     "metadata": {},
     "output_type": "execute_result"
    }
   ],
   "source": [
    "knn_cf"
   ]
  },
  {
   "cell_type": "code",
   "execution_count": 64,
   "id": "0ec50516",
   "metadata": {},
   "outputs": [
    {
     "name": "stdout",
     "output_type": "stream",
     "text": [
      "0.6865671641791045\n",
      "0.8165680473372781\n",
      "0.7225130890052356\n",
      "0.7666666666666666\n"
     ]
    }
   ],
   "source": [
    "print(knn_accuracy)\n",
    "print(knn_recall)\n",
    "print(knn_precision)\n",
    "print(knn_f1)"
   ]
  },
  {
   "cell_type": "markdown",
   "id": "4a3db178",
   "metadata": {},
   "source": [
    "# SVM"
   ]
  },
  {
   "cell_type": "code",
   "execution_count": 65,
   "id": "51b2fb85",
   "metadata": {},
   "outputs": [],
   "source": [
    "from sklearn.svm import SVC"
   ]
  },
  {
   "cell_type": "code",
   "execution_count": 66,
   "id": "44c8654a",
   "metadata": {},
   "outputs": [],
   "source": [
    "svc = SVC(kernel='rbf',degree=4)"
   ]
  },
  {
   "cell_type": "code",
   "execution_count": 67,
   "id": "65c69c31",
   "metadata": {},
   "outputs": [
    {
     "data": {
      "text/html": [
       "<style>#sk-container-id-4 {color: black;background-color: white;}#sk-container-id-4 pre{padding: 0;}#sk-container-id-4 div.sk-toggleable {background-color: white;}#sk-container-id-4 label.sk-toggleable__label {cursor: pointer;display: block;width: 100%;margin-bottom: 0;padding: 0.3em;box-sizing: border-box;text-align: center;}#sk-container-id-4 label.sk-toggleable__label-arrow:before {content: \"▸\";float: left;margin-right: 0.25em;color: #696969;}#sk-container-id-4 label.sk-toggleable__label-arrow:hover:before {color: black;}#sk-container-id-4 div.sk-estimator:hover label.sk-toggleable__label-arrow:before {color: black;}#sk-container-id-4 div.sk-toggleable__content {max-height: 0;max-width: 0;overflow: hidden;text-align: left;background-color: #f0f8ff;}#sk-container-id-4 div.sk-toggleable__content pre {margin: 0.2em;color: black;border-radius: 0.25em;background-color: #f0f8ff;}#sk-container-id-4 input.sk-toggleable__control:checked~div.sk-toggleable__content {max-height: 200px;max-width: 100%;overflow: auto;}#sk-container-id-4 input.sk-toggleable__control:checked~label.sk-toggleable__label-arrow:before {content: \"▾\";}#sk-container-id-4 div.sk-estimator input.sk-toggleable__control:checked~label.sk-toggleable__label {background-color: #d4ebff;}#sk-container-id-4 div.sk-label input.sk-toggleable__control:checked~label.sk-toggleable__label {background-color: #d4ebff;}#sk-container-id-4 input.sk-hidden--visually {border: 0;clip: rect(1px 1px 1px 1px);clip: rect(1px, 1px, 1px, 1px);height: 1px;margin: -1px;overflow: hidden;padding: 0;position: absolute;width: 1px;}#sk-container-id-4 div.sk-estimator {font-family: monospace;background-color: #f0f8ff;border: 1px dotted black;border-radius: 0.25em;box-sizing: border-box;margin-bottom: 0.5em;}#sk-container-id-4 div.sk-estimator:hover {background-color: #d4ebff;}#sk-container-id-4 div.sk-parallel-item::after {content: \"\";width: 100%;border-bottom: 1px solid gray;flex-grow: 1;}#sk-container-id-4 div.sk-label:hover label.sk-toggleable__label {background-color: #d4ebff;}#sk-container-id-4 div.sk-serial::before {content: \"\";position: absolute;border-left: 1px solid gray;box-sizing: border-box;top: 0;bottom: 0;left: 50%;z-index: 0;}#sk-container-id-4 div.sk-serial {display: flex;flex-direction: column;align-items: center;background-color: white;padding-right: 0.2em;padding-left: 0.2em;position: relative;}#sk-container-id-4 div.sk-item {position: relative;z-index: 1;}#sk-container-id-4 div.sk-parallel {display: flex;align-items: stretch;justify-content: center;background-color: white;position: relative;}#sk-container-id-4 div.sk-item::before, #sk-container-id-4 div.sk-parallel-item::before {content: \"\";position: absolute;border-left: 1px solid gray;box-sizing: border-box;top: 0;bottom: 0;left: 50%;z-index: -1;}#sk-container-id-4 div.sk-parallel-item {display: flex;flex-direction: column;z-index: 1;position: relative;background-color: white;}#sk-container-id-4 div.sk-parallel-item:first-child::after {align-self: flex-end;width: 50%;}#sk-container-id-4 div.sk-parallel-item:last-child::after {align-self: flex-start;width: 50%;}#sk-container-id-4 div.sk-parallel-item:only-child::after {width: 0;}#sk-container-id-4 div.sk-dashed-wrapped {border: 1px dashed gray;margin: 0 0.4em 0.5em 0.4em;box-sizing: border-box;padding-bottom: 0.4em;background-color: white;}#sk-container-id-4 div.sk-label label {font-family: monospace;font-weight: bold;display: inline-block;line-height: 1.2em;}#sk-container-id-4 div.sk-label-container {text-align: center;}#sk-container-id-4 div.sk-container {/* jupyter's `normalize.less` sets `[hidden] { display: none; }` but bootstrap.min.css set `[hidden] { display: none !important; }` so we also need the `!important` here to be able to override the default hidden behavior on the sphinx rendered scikit-learn.org. See: https://github.com/scikit-learn/scikit-learn/issues/21755 */display: inline-block !important;position: relative;}#sk-container-id-4 div.sk-text-repr-fallback {display: none;}</style><div id=\"sk-container-id-4\" class=\"sk-top-container\"><div class=\"sk-text-repr-fallback\"><pre>SVC(degree=4)</pre><b>In a Jupyter environment, please rerun this cell to show the HTML representation or trust the notebook. <br />On GitHub, the HTML representation is unable to render, please try loading this page with nbviewer.org.</b></div><div class=\"sk-container\" hidden><div class=\"sk-item\"><div class=\"sk-estimator sk-toggleable\"><input class=\"sk-toggleable__control sk-hidden--visually\" id=\"sk-estimator-id-4\" type=\"checkbox\" checked><label for=\"sk-estimator-id-4\" class=\"sk-toggleable__label sk-toggleable__label-arrow\">SVC</label><div class=\"sk-toggleable__content\"><pre>SVC(degree=4)</pre></div></div></div></div></div>"
      ],
      "text/plain": [
       "SVC(degree=4)"
      ]
     },
     "execution_count": 67,
     "metadata": {},
     "output_type": "execute_result"
    }
   ],
   "source": [
    "svc.fit(train_x , train_y)"
   ]
  },
  {
   "cell_type": "code",
   "execution_count": 68,
   "id": "66c2c426",
   "metadata": {},
   "outputs": [],
   "source": [
    "pred_svm=svc.predict(test_x)"
   ]
  },
  {
   "cell_type": "code",
   "execution_count": 69,
   "id": "d05d4ba7",
   "metadata": {},
   "outputs": [],
   "source": [
    "svm_cf = confusion_matrix(test_y, pred_svm)\n",
    "svm_accuracy= accuracy_score(test_y, pred_svm)\n",
    "svm_recall = recall_score(test_y, pred_svm)\n",
    "svm_precision = precision_score(test_y,pred_svm)\n",
    "svm_f1 = f1_score(test_y, pred_svm)"
   ]
  },
  {
   "cell_type": "code",
   "execution_count": 70,
   "id": "da899d98",
   "metadata": {},
   "outputs": [
    {
     "data": {
      "text/plain": [
       "array([[ 42,  57],\n",
       "       [ 18, 151]], dtype=int64)"
      ]
     },
     "execution_count": 70,
     "metadata": {},
     "output_type": "execute_result"
    }
   ],
   "source": [
    "svm_cf"
   ]
  },
  {
   "cell_type": "code",
   "execution_count": 71,
   "id": "faf7478c",
   "metadata": {},
   "outputs": [
    {
     "name": "stdout",
     "output_type": "stream",
     "text": [
      "0.7201492537313433\n",
      "0.893491124260355\n",
      "0.7259615384615384\n",
      "0.8010610079575597\n"
     ]
    }
   ],
   "source": [
    "print(svm_accuracy)\n",
    "print(svm_recall)\n",
    "print(svm_precision)\n",
    "print(svm_f1)"
   ]
  },
  {
   "cell_type": "code",
   "execution_count": 72,
   "id": "f99c12c3",
   "metadata": {},
   "outputs": [],
   "source": [
    "# I conclude Logistics Regression model gives the best results. "
   ]
  },
  {
   "cell_type": "code",
   "execution_count": null,
   "id": "c61fe07b",
   "metadata": {},
   "outputs": [],
   "source": []
  },
  {
   "cell_type": "code",
   "execution_count": null,
   "id": "d0e3b5cd",
   "metadata": {},
   "outputs": [],
   "source": []
  },
  {
   "cell_type": "code",
   "execution_count": null,
   "id": "163756b0",
   "metadata": {},
   "outputs": [],
   "source": []
  }
 ],
 "metadata": {
  "kernelspec": {
   "display_name": "Python 3 (ipykernel)",
   "language": "python",
   "name": "python3"
  },
  "language_info": {
   "codemirror_mode": {
    "name": "ipython",
    "version": 3
   },
   "file_extension": ".py",
   "mimetype": "text/x-python",
   "name": "python",
   "nbconvert_exporter": "python",
   "pygments_lexer": "ipython3",
   "version": "3.9.12"
  }
 },
 "nbformat": 4,
 "nbformat_minor": 5
}
